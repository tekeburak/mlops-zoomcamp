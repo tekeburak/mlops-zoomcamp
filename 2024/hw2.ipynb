{
  "cells": [
    {
      "cell_type": "code",
      "execution_count": 1,
      "metadata": {
        "id": "QajNRkZgY-ZC",
        "outputId": "2594699a-5f23-404b-fe88-860485aaf7ad",
        "colab": {
          "base_uri": "https://localhost:8080/"
        }
      },
      "outputs": [
        {
          "output_type": "stream",
          "name": "stdout",
          "text": [
            "Python 3.10.12\n"
          ]
        }
      ],
      "source": [
        "!python -V"
      ]
    },
    {
      "cell_type": "markdown",
      "source": [
        "# **Q1. Install MLflow**"
      ],
      "metadata": {
        "id": "ar3VZWMTauQF"
      }
    },
    {
      "cell_type": "code",
      "source": [
        "!pip install mlflow scikit-learn pandas fastparquet hyperopt matplotlib"
      ],
      "metadata": {
        "id": "fngpIN1OavnG",
        "outputId": "60fb7872-fadd-4a32-e328-bc27f3ac8609",
        "colab": {
          "base_uri": "https://localhost:8080/"
        }
      },
      "execution_count": 16,
      "outputs": [
        {
          "output_type": "stream",
          "name": "stdout",
          "text": [
            "Requirement already satisfied: mlflow in /usr/local/lib/python3.10/dist-packages (2.13.0)\n",
            "Requirement already satisfied: scikit-learn in /usr/local/lib/python3.10/dist-packages (1.2.2)\n",
            "Requirement already satisfied: pandas in /usr/local/lib/python3.10/dist-packages (2.0.3)\n",
            "Requirement already satisfied: fastparquet in /usr/local/lib/python3.10/dist-packages (2024.5.0)\n",
            "Requirement already satisfied: hyperopt in /usr/local/lib/python3.10/dist-packages (0.2.7)\n",
            "Requirement already satisfied: matplotlib in /usr/local/lib/python3.10/dist-packages (3.7.1)\n",
            "Requirement already satisfied: Flask<4 in /usr/local/lib/python3.10/dist-packages (from mlflow) (2.2.5)\n",
            "Requirement already satisfied: alembic!=1.10.0,<2 in /usr/local/lib/python3.10/dist-packages (from mlflow) (1.13.1)\n",
            "Requirement already satisfied: cachetools<6,>=5.0.0 in /usr/local/lib/python3.10/dist-packages (from mlflow) (5.3.3)\n",
            "Requirement already satisfied: click<9,>=7.0 in /usr/local/lib/python3.10/dist-packages (from mlflow) (8.1.7)\n",
            "Requirement already satisfied: cloudpickle<4 in /usr/local/lib/python3.10/dist-packages (from mlflow) (2.2.1)\n",
            "Requirement already satisfied: docker<8,>=4.0.0 in /usr/local/lib/python3.10/dist-packages (from mlflow) (7.1.0)\n",
            "Requirement already satisfied: entrypoints<1 in /usr/local/lib/python3.10/dist-packages (from mlflow) (0.4)\n",
            "Requirement already satisfied: gitpython<4,>=3.1.9 in /usr/local/lib/python3.10/dist-packages (from mlflow) (3.1.43)\n",
            "Requirement already satisfied: graphene<4 in /usr/local/lib/python3.10/dist-packages (from mlflow) (3.3)\n",
            "Requirement already satisfied: importlib-metadata!=4.7.0,<8,>=3.7.0 in /usr/local/lib/python3.10/dist-packages (from mlflow) (7.0.0)\n",
            "Requirement already satisfied: markdown<4,>=3.3 in /usr/local/lib/python3.10/dist-packages (from mlflow) (3.6)\n",
            "Requirement already satisfied: numpy<2 in /usr/local/lib/python3.10/dist-packages (from mlflow) (1.25.2)\n",
            "Requirement already satisfied: opentelemetry-api<3,>=1.0.0 in /usr/local/lib/python3.10/dist-packages (from mlflow) (1.24.0)\n",
            "Requirement already satisfied: opentelemetry-sdk<3,>=1.0.0 in /usr/local/lib/python3.10/dist-packages (from mlflow) (1.24.0)\n",
            "Requirement already satisfied: packaging<25 in /usr/local/lib/python3.10/dist-packages (from mlflow) (24.0)\n",
            "Requirement already satisfied: protobuf<5,>=3.12.0 in /usr/local/lib/python3.10/dist-packages (from mlflow) (3.20.3)\n",
            "Requirement already satisfied: pyarrow<16,>=4.0.0 in /usr/local/lib/python3.10/dist-packages (from mlflow) (14.0.2)\n",
            "Requirement already satisfied: pytz<2025 in /usr/local/lib/python3.10/dist-packages (from mlflow) (2023.4)\n",
            "Requirement already satisfied: pyyaml<7,>=5.1 in /usr/local/lib/python3.10/dist-packages (from mlflow) (6.0.1)\n",
            "Requirement already satisfied: querystring-parser<2 in /usr/local/lib/python3.10/dist-packages (from mlflow) (1.2.4)\n",
            "Requirement already satisfied: requests<3,>=2.17.3 in /usr/local/lib/python3.10/dist-packages (from mlflow) (2.31.0)\n",
            "Requirement already satisfied: scipy<2 in /usr/local/lib/python3.10/dist-packages (from mlflow) (1.11.4)\n",
            "Requirement already satisfied: sqlalchemy<3,>=1.4.0 in /usr/local/lib/python3.10/dist-packages (from mlflow) (2.0.30)\n",
            "Requirement already satisfied: sqlparse<1,>=0.4.0 in /usr/local/lib/python3.10/dist-packages (from mlflow) (0.5.0)\n",
            "Requirement already satisfied: Jinja2<4,>=2.11 in /usr/local/lib/python3.10/dist-packages (from mlflow) (3.1.4)\n",
            "Requirement already satisfied: gunicorn<23 in /usr/local/lib/python3.10/dist-packages (from mlflow) (22.0.0)\n",
            "Requirement already satisfied: joblib>=1.1.1 in /usr/local/lib/python3.10/dist-packages (from scikit-learn) (1.4.2)\n",
            "Requirement already satisfied: threadpoolctl>=2.0.0 in /usr/local/lib/python3.10/dist-packages (from scikit-learn) (3.5.0)\n",
            "Requirement already satisfied: python-dateutil>=2.8.2 in /usr/local/lib/python3.10/dist-packages (from pandas) (2.8.2)\n",
            "Requirement already satisfied: tzdata>=2022.1 in /usr/local/lib/python3.10/dist-packages (from pandas) (2024.1)\n",
            "Requirement already satisfied: cramjam>=2.3 in /usr/local/lib/python3.10/dist-packages (from fastparquet) (2.8.3)\n",
            "Requirement already satisfied: fsspec in /usr/local/lib/python3.10/dist-packages (from fastparquet) (2023.6.0)\n",
            "Requirement already satisfied: six in /usr/local/lib/python3.10/dist-packages (from hyperopt) (1.16.0)\n",
            "Requirement already satisfied: networkx>=2.2 in /usr/local/lib/python3.10/dist-packages (from hyperopt) (3.3)\n",
            "Requirement already satisfied: future in /usr/local/lib/python3.10/dist-packages (from hyperopt) (0.18.3)\n",
            "Requirement already satisfied: tqdm in /usr/local/lib/python3.10/dist-packages (from hyperopt) (4.66.4)\n",
            "Requirement already satisfied: py4j in /usr/local/lib/python3.10/dist-packages (from hyperopt) (0.10.9.7)\n",
            "Requirement already satisfied: contourpy>=1.0.1 in /usr/local/lib/python3.10/dist-packages (from matplotlib) (1.2.1)\n",
            "Requirement already satisfied: cycler>=0.10 in /usr/local/lib/python3.10/dist-packages (from matplotlib) (0.12.1)\n",
            "Requirement already satisfied: fonttools>=4.22.0 in /usr/local/lib/python3.10/dist-packages (from matplotlib) (4.51.0)\n",
            "Requirement already satisfied: kiwisolver>=1.0.1 in /usr/local/lib/python3.10/dist-packages (from matplotlib) (1.4.5)\n",
            "Requirement already satisfied: pillow>=6.2.0 in /usr/local/lib/python3.10/dist-packages (from matplotlib) (9.4.0)\n",
            "Requirement already satisfied: pyparsing>=2.3.1 in /usr/local/lib/python3.10/dist-packages (from matplotlib) (3.1.2)\n",
            "Requirement already satisfied: Mako in /usr/local/lib/python3.10/dist-packages (from alembic!=1.10.0,<2->mlflow) (1.3.5)\n",
            "Requirement already satisfied: typing-extensions>=4 in /usr/local/lib/python3.10/dist-packages (from alembic!=1.10.0,<2->mlflow) (4.11.0)\n",
            "Requirement already satisfied: urllib3>=1.26.0 in /usr/local/lib/python3.10/dist-packages (from docker<8,>=4.0.0->mlflow) (2.0.7)\n",
            "Requirement already satisfied: Werkzeug>=2.2.2 in /usr/local/lib/python3.10/dist-packages (from Flask<4->mlflow) (3.0.3)\n",
            "Requirement already satisfied: itsdangerous>=2.0 in /usr/local/lib/python3.10/dist-packages (from Flask<4->mlflow) (2.2.0)\n",
            "Requirement already satisfied: gitdb<5,>=4.0.1 in /usr/local/lib/python3.10/dist-packages (from gitpython<4,>=3.1.9->mlflow) (4.0.11)\n",
            "Requirement already satisfied: graphql-core<3.3,>=3.1 in /usr/local/lib/python3.10/dist-packages (from graphene<4->mlflow) (3.2.3)\n",
            "Requirement already satisfied: graphql-relay<3.3,>=3.1 in /usr/local/lib/python3.10/dist-packages (from graphene<4->mlflow) (3.2.0)\n",
            "Requirement already satisfied: aniso8601<10,>=8 in /usr/local/lib/python3.10/dist-packages (from graphene<4->mlflow) (9.0.1)\n",
            "Requirement already satisfied: zipp>=0.5 in /usr/local/lib/python3.10/dist-packages (from importlib-metadata!=4.7.0,<8,>=3.7.0->mlflow) (3.18.2)\n",
            "Requirement already satisfied: MarkupSafe>=2.0 in /usr/local/lib/python3.10/dist-packages (from Jinja2<4,>=2.11->mlflow) (2.1.5)\n",
            "Requirement already satisfied: deprecated>=1.2.6 in /usr/local/lib/python3.10/dist-packages (from opentelemetry-api<3,>=1.0.0->mlflow) (1.2.14)\n",
            "Requirement already satisfied: opentelemetry-semantic-conventions==0.45b0 in /usr/local/lib/python3.10/dist-packages (from opentelemetry-sdk<3,>=1.0.0->mlflow) (0.45b0)\n",
            "Requirement already satisfied: charset-normalizer<4,>=2 in /usr/local/lib/python3.10/dist-packages (from requests<3,>=2.17.3->mlflow) (3.3.2)\n",
            "Requirement already satisfied: idna<4,>=2.5 in /usr/local/lib/python3.10/dist-packages (from requests<3,>=2.17.3->mlflow) (3.7)\n",
            "Requirement already satisfied: certifi>=2017.4.17 in /usr/local/lib/python3.10/dist-packages (from requests<3,>=2.17.3->mlflow) (2024.2.2)\n",
            "Requirement already satisfied: greenlet!=0.4.17 in /usr/local/lib/python3.10/dist-packages (from sqlalchemy<3,>=1.4.0->mlflow) (3.0.3)\n",
            "Requirement already satisfied: wrapt<2,>=1.10 in /usr/local/lib/python3.10/dist-packages (from deprecated>=1.2.6->opentelemetry-api<3,>=1.0.0->mlflow) (1.14.1)\n",
            "Requirement already satisfied: smmap<6,>=3.0.1 in /usr/local/lib/python3.10/dist-packages (from gitdb<5,>=4.0.1->gitpython<4,>=3.1.9->mlflow) (5.0.1)\n"
          ]
        }
      ]
    },
    {
      "cell_type": "code",
      "source": [
        "!mlflow --version"
      ],
      "metadata": {
        "id": "CglNYauybBDQ",
        "outputId": "75833c7d-20fc-4184-90c5-8d9f224e25c9",
        "colab": {
          "base_uri": "https://localhost:8080/"
        }
      },
      "execution_count": 4,
      "outputs": [
        {
          "output_type": "stream",
          "name": "stdout",
          "text": [
            "mlflow, version 2.13.0\n"
          ]
        }
      ]
    },
    {
      "cell_type": "markdown",
      "source": [
        "# **Q2. Download and preprocess the data**"
      ],
      "metadata": {
        "id": "HM5y7m9Iwdp_"
      }
    },
    {
      "cell_type": "markdown",
      "source": [
        "## Write the code for `preprocess_data.py`"
      ],
      "metadata": {
        "id": "kRiiRtkkwinb"
      }
    },
    {
      "cell_type": "code",
      "source": [
        "%%writefile preprocess_data.py\n",
        "import os\n",
        "import pickle\n",
        "import click\n",
        "import pandas as pd\n",
        "\n",
        "from sklearn.feature_extraction import DictVectorizer\n",
        "\n",
        "\n",
        "def dump_pickle(obj, filename: str):\n",
        "    with open(filename, \"wb\") as f_out:\n",
        "        return pickle.dump(obj, f_out)\n",
        "\n",
        "\n",
        "def read_dataframe(filename: str):\n",
        "    df = pd.read_parquet(filename)\n",
        "\n",
        "    df['duration'] = df['lpep_dropoff_datetime'] - df['lpep_pickup_datetime']\n",
        "    df.duration = df.duration.apply(lambda td: td.total_seconds() / 60)\n",
        "    df = df[(df.duration >= 1) & (df.duration <= 60)]\n",
        "\n",
        "    categorical = ['PULocationID', 'DOLocationID']\n",
        "    df[categorical] = df[categorical].astype(str)\n",
        "\n",
        "    return df\n",
        "\n",
        "\n",
        "def preprocess(df: pd.DataFrame, dv: DictVectorizer, fit_dv: bool = False):\n",
        "    df['PU_DO'] = df['PULocationID'] + '_' + df['DOLocationID']\n",
        "    categorical = ['PU_DO']\n",
        "    numerical = ['trip_distance']\n",
        "    dicts = df[categorical + numerical].to_dict(orient='records')\n",
        "    if fit_dv:\n",
        "        X = dv.fit_transform(dicts)\n",
        "    else:\n",
        "        X = dv.transform(dicts)\n",
        "    return X, dv\n",
        "\n",
        "\n",
        "@click.command()\n",
        "@click.option(\n",
        "    \"--raw_data_path\",\n",
        "    help=\"Location where the raw NYC taxi trip data was saved\"\n",
        ")\n",
        "@click.option(\n",
        "    \"--dest_path\",\n",
        "    help=\"Location where the resulting files will be saved\"\n",
        ")\n",
        "def run_data_prep(raw_data_path: str, dest_path: str, dataset: str = \"green\"):\n",
        "    # Load parquet files\n",
        "    df_train = read_dataframe(\n",
        "        os.path.join(raw_data_path, f\"{dataset}_tripdata_2023-01.parquet\")\n",
        "    )\n",
        "    df_val = read_dataframe(\n",
        "        os.path.join(raw_data_path, f\"{dataset}_tripdata_2023-02.parquet\")\n",
        "    )\n",
        "    df_test = read_dataframe(\n",
        "        os.path.join(raw_data_path, f\"{dataset}_tripdata_2023-03.parquet\")\n",
        "    )\n",
        "\n",
        "    # Extract the target\n",
        "    target = 'duration'\n",
        "    y_train = df_train[target].values\n",
        "    y_val = df_val[target].values\n",
        "    y_test = df_test[target].values\n",
        "\n",
        "    # Fit the DictVectorizer and preprocess data\n",
        "    dv = DictVectorizer()\n",
        "    X_train, dv = preprocess(df_train, dv, fit_dv=True)\n",
        "    X_val, _ = preprocess(df_val, dv, fit_dv=False)\n",
        "    X_test, _ = preprocess(df_test, dv, fit_dv=False)\n",
        "\n",
        "    # Create dest_path folder unless it already exists\n",
        "    os.makedirs(dest_path, exist_ok=True)\n",
        "\n",
        "    # Save DictVectorizer and datasets\n",
        "    dump_pickle(dv, os.path.join(dest_path, \"dv.pkl\"))\n",
        "    dump_pickle((X_train, y_train), os.path.join(dest_path, \"train.pkl\"))\n",
        "    dump_pickle((X_val, y_val), os.path.join(dest_path, \"val.pkl\"))\n",
        "    dump_pickle((X_test, y_test), os.path.join(dest_path, \"test.pkl\"))\n",
        "\n",
        "\n",
        "if __name__ == '__main__':\n",
        "    run_data_prep()"
      ],
      "metadata": {
        "id": "PmChn7_VubQB",
        "outputId": "e653e903-4f87-4309-f362-a3670d9cd384",
        "colab": {
          "base_uri": "https://localhost:8080/"
        }
      },
      "execution_count": 13,
      "outputs": [
        {
          "output_type": "stream",
          "name": "stdout",
          "text": [
            "Overwriting preprocess_data.py\n"
          ]
        }
      ]
    },
    {
      "cell_type": "code",
      "source": [
        "!python preprocess_data.py --raw_data_path data --dest_path output"
      ],
      "metadata": {
        "id": "HA_0v0vjw_QQ"
      },
      "execution_count": 8,
      "outputs": []
    },
    {
      "cell_type": "code",
      "source": [
        "# Calculate how many files were saved to OUTPUT_FOLDER\n",
        "!ls output | wc -l"
      ],
      "metadata": {
        "id": "zAR9yYblxPcO",
        "outputId": "8fd94f09-dd21-402a-8bd7-5ee0ede8a9c1",
        "colab": {
          "base_uri": "https://localhost:8080/"
        }
      },
      "execution_count": 12,
      "outputs": [
        {
          "output_type": "stream",
          "name": "stdout",
          "text": [
            "4\n"
          ]
        }
      ]
    },
    {
      "cell_type": "markdown",
      "source": [
        "# **Q3. Train a model with autolog**"
      ],
      "metadata": {
        "id": "3zVJ8OfqxeMN"
      }
    },
    {
      "cell_type": "markdown",
      "source": [
        "## Write the code for `train.py`"
      ],
      "metadata": {
        "id": "17mfQeaizzoS"
      }
    },
    {
      "cell_type": "code",
      "source": [
        "%%writefile train.py\n",
        "import os\n",
        "import pickle\n",
        "import click\n",
        "\n",
        "from sklearn.ensemble import RandomForestRegressor\n",
        "from sklearn.metrics import mean_squared_error\n",
        "\n",
        "\n",
        "def load_pickle(filename: str):\n",
        "    with open(filename, \"rb\") as f_in:\n",
        "        return pickle.load(f_in)\n",
        "\n",
        "\n",
        "@click.command()\n",
        "@click.option(\n",
        "    \"--data_path\",\n",
        "    default=\"output\",\n",
        "    help=\"Location where the processed NYC taxi trip data was saved\"\n",
        ")\n",
        "def run_train(data_path: str):\n",
        "\n",
        "    X_train, y_train = load_pickle(os.path.join(data_path, \"train.pkl\"))\n",
        "    X_val, y_val = load_pickle(os.path.join(data_path, \"val.pkl\"))\n",
        "\n",
        "    rf = RandomForestRegressor(max_depth=10, random_state=0)\n",
        "    rf.fit(X_train, y_train)\n",
        "    y_pred = rf.predict(X_val)\n",
        "\n",
        "    rmse = mean_squared_error(y_val, y_pred, squared=False)\n",
        "\n",
        "\n",
        "if __name__ == '__main__':\n",
        "    run_train()"
      ],
      "metadata": {
        "id": "Yi7e2eBtzkop",
        "outputId": "a5d544a5-13a4-4a8d-f054-5525c2b8a553",
        "colab": {
          "base_uri": "https://localhost:8080/"
        }
      },
      "execution_count": 14,
      "outputs": [
        {
          "output_type": "stream",
          "name": "stdout",
          "text": [
            "Writing train.py\n"
          ]
        }
      ]
    },
    {
      "cell_type": "code",
      "source": [
        "!mlflow ui"
      ],
      "metadata": {
        "id": "z9iyH8oa5gJf",
        "outputId": "ebacb7b1-48ae-40b8-9fc9-0fbce4705080",
        "colab": {
          "base_uri": "https://localhost:8080/"
        }
      },
      "execution_count": 17,
      "outputs": [
        {
          "output_type": "stream",
          "name": "stdout",
          "text": [
            "[2024-05-30 14:27:54 +0000] [30681] [INFO] Starting gunicorn 22.0.0\n",
            "[2024-05-30 14:27:54 +0000] [30681] [INFO] Listening at: http://127.0.0.1:5000 (30681)\n",
            "[2024-05-30 14:27:54 +0000] [30681] [INFO] Using worker: sync\n",
            "[2024-05-30 14:27:54 +0000] [30682] [INFO] Booting worker with pid: 30682\n",
            "[2024-05-30 14:27:54 +0000] [30683] [INFO] Booting worker with pid: 30683\n",
            "[2024-05-30 14:27:54 +0000] [30684] [INFO] Booting worker with pid: 30684\n",
            "[2024-05-30 14:27:54 +0000] [30685] [INFO] Booting worker with pid: 30685\n",
            "\n",
            "Aborted!\n",
            "[2024-05-30 14:30:10 +0000] [30681] [INFO] Handling signal: int\n",
            "[2024-05-30 14:30:10 +0000] [30684] [INFO] Worker exiting (pid: 30684)\n",
            "[2024-05-30 14:30:10 +0000] [30685] [INFO] Worker exiting (pid: 30685)\n",
            "[2024-05-30 14:30:10 +0000] [30682] [INFO] Worker exiting (pid: 30682)\n",
            "[2024-05-30 14:30:10 +0000] [30683] [INFO] Worker exiting (pid: 30683)\n",
            "[2024-05-30 14:30:11 +0000] [30681] [INFO] Shutting down: Master\n"
          ]
        }
      ]
    }
  ],
  "metadata": {
    "kernelspec": {
      "display_name": "mlops",
      "language": "python",
      "name": "python3"
    },
    "language_info": {
      "codemirror_mode": {
        "name": "ipython",
        "version": 3
      },
      "file_extension": ".py",
      "mimetype": "text/x-python",
      "name": "python",
      "nbconvert_exporter": "python",
      "pygments_lexer": "ipython3",
      "version": "3.9.19"
    },
    "colab": {
      "provenance": []
    }
  },
  "nbformat": 4,
  "nbformat_minor": 0
}