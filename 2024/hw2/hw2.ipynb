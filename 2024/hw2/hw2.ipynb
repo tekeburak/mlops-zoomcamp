{
  "cells": [
    {
      "cell_type": "code",
      "execution_count": 2,
      "metadata": {
        "colab": {
          "base_uri": "https://localhost:8080/"
        },
        "id": "QajNRkZgY-ZC",
        "outputId": "2594699a-5f23-404b-fe88-860485aaf7ad"
      },
      "outputs": [
        {
          "name": "stdout",
          "output_type": "stream",
          "text": [
            "Python 3.10.14\n"
          ]
        }
      ],
      "source": [
        "!python -V"
      ]
    },
    {
      "cell_type": "markdown",
      "metadata": {
        "id": "ar3VZWMTauQF"
      },
      "source": [
        "# **Q1. Install MLflow**"
      ]
    },
    {
      "cell_type": "code",
      "execution_count": 16,
      "metadata": {
        "colab": {
          "base_uri": "https://localhost:8080/"
        },
        "id": "fngpIN1OavnG",
        "outputId": "60fb7872-fadd-4a32-e328-bc27f3ac8609"
      },
      "outputs": [
        {
          "name": "stdout",
          "output_type": "stream",
          "text": [
            "Requirement already satisfied: mlflow in /usr/local/lib/python3.10/dist-packages (2.13.0)\n",
            "Requirement already satisfied: scikit-learn in /usr/local/lib/python3.10/dist-packages (1.2.2)\n",
            "Requirement already satisfied: pandas in /usr/local/lib/python3.10/dist-packages (2.0.3)\n",
            "Requirement already satisfied: fastparquet in /usr/local/lib/python3.10/dist-packages (2024.5.0)\n",
            "Requirement already satisfied: hyperopt in /usr/local/lib/python3.10/dist-packages (0.2.7)\n",
            "Requirement already satisfied: matplotlib in /usr/local/lib/python3.10/dist-packages (3.7.1)\n",
            "Requirement already satisfied: Flask<4 in /usr/local/lib/python3.10/dist-packages (from mlflow) (2.2.5)\n",
            "Requirement already satisfied: alembic!=1.10.0,<2 in /usr/local/lib/python3.10/dist-packages (from mlflow) (1.13.1)\n",
            "Requirement already satisfied: cachetools<6,>=5.0.0 in /usr/local/lib/python3.10/dist-packages (from mlflow) (5.3.3)\n",
            "Requirement already satisfied: click<9,>=7.0 in /usr/local/lib/python3.10/dist-packages (from mlflow) (8.1.7)\n",
            "Requirement already satisfied: cloudpickle<4 in /usr/local/lib/python3.10/dist-packages (from mlflow) (2.2.1)\n",
            "Requirement already satisfied: docker<8,>=4.0.0 in /usr/local/lib/python3.10/dist-packages (from mlflow) (7.1.0)\n",
            "Requirement already satisfied: entrypoints<1 in /usr/local/lib/python3.10/dist-packages (from mlflow) (0.4)\n",
            "Requirement already satisfied: gitpython<4,>=3.1.9 in /usr/local/lib/python3.10/dist-packages (from mlflow) (3.1.43)\n",
            "Requirement already satisfied: graphene<4 in /usr/local/lib/python3.10/dist-packages (from mlflow) (3.3)\n",
            "Requirement already satisfied: importlib-metadata!=4.7.0,<8,>=3.7.0 in /usr/local/lib/python3.10/dist-packages (from mlflow) (7.0.0)\n",
            "Requirement already satisfied: markdown<4,>=3.3 in /usr/local/lib/python3.10/dist-packages (from mlflow) (3.6)\n",
            "Requirement already satisfied: numpy<2 in /usr/local/lib/python3.10/dist-packages (from mlflow) (1.25.2)\n",
            "Requirement already satisfied: opentelemetry-api<3,>=1.0.0 in /usr/local/lib/python3.10/dist-packages (from mlflow) (1.24.0)\n",
            "Requirement already satisfied: opentelemetry-sdk<3,>=1.0.0 in /usr/local/lib/python3.10/dist-packages (from mlflow) (1.24.0)\n",
            "Requirement already satisfied: packaging<25 in /usr/local/lib/python3.10/dist-packages (from mlflow) (24.0)\n",
            "Requirement already satisfied: protobuf<5,>=3.12.0 in /usr/local/lib/python3.10/dist-packages (from mlflow) (3.20.3)\n",
            "Requirement already satisfied: pyarrow<16,>=4.0.0 in /usr/local/lib/python3.10/dist-packages (from mlflow) (14.0.2)\n",
            "Requirement already satisfied: pytz<2025 in /usr/local/lib/python3.10/dist-packages (from mlflow) (2023.4)\n",
            "Requirement already satisfied: pyyaml<7,>=5.1 in /usr/local/lib/python3.10/dist-packages (from mlflow) (6.0.1)\n",
            "Requirement already satisfied: querystring-parser<2 in /usr/local/lib/python3.10/dist-packages (from mlflow) (1.2.4)\n",
            "Requirement already satisfied: requests<3,>=2.17.3 in /usr/local/lib/python3.10/dist-packages (from mlflow) (2.31.0)\n",
            "Requirement already satisfied: scipy<2 in /usr/local/lib/python3.10/dist-packages (from mlflow) (1.11.4)\n",
            "Requirement already satisfied: sqlalchemy<3,>=1.4.0 in /usr/local/lib/python3.10/dist-packages (from mlflow) (2.0.30)\n",
            "Requirement already satisfied: sqlparse<1,>=0.4.0 in /usr/local/lib/python3.10/dist-packages (from mlflow) (0.5.0)\n",
            "Requirement already satisfied: Jinja2<4,>=2.11 in /usr/local/lib/python3.10/dist-packages (from mlflow) (3.1.4)\n",
            "Requirement already satisfied: gunicorn<23 in /usr/local/lib/python3.10/dist-packages (from mlflow) (22.0.0)\n",
            "Requirement already satisfied: joblib>=1.1.1 in /usr/local/lib/python3.10/dist-packages (from scikit-learn) (1.4.2)\n",
            "Requirement already satisfied: threadpoolctl>=2.0.0 in /usr/local/lib/python3.10/dist-packages (from scikit-learn) (3.5.0)\n",
            "Requirement already satisfied: python-dateutil>=2.8.2 in /usr/local/lib/python3.10/dist-packages (from pandas) (2.8.2)\n",
            "Requirement already satisfied: tzdata>=2022.1 in /usr/local/lib/python3.10/dist-packages (from pandas) (2024.1)\n",
            "Requirement already satisfied: cramjam>=2.3 in /usr/local/lib/python3.10/dist-packages (from fastparquet) (2.8.3)\n",
            "Requirement already satisfied: fsspec in /usr/local/lib/python3.10/dist-packages (from fastparquet) (2023.6.0)\n",
            "Requirement already satisfied: six in /usr/local/lib/python3.10/dist-packages (from hyperopt) (1.16.0)\n",
            "Requirement already satisfied: networkx>=2.2 in /usr/local/lib/python3.10/dist-packages (from hyperopt) (3.3)\n",
            "Requirement already satisfied: future in /usr/local/lib/python3.10/dist-packages (from hyperopt) (0.18.3)\n",
            "Requirement already satisfied: tqdm in /usr/local/lib/python3.10/dist-packages (from hyperopt) (4.66.4)\n",
            "Requirement already satisfied: py4j in /usr/local/lib/python3.10/dist-packages (from hyperopt) (0.10.9.7)\n",
            "Requirement already satisfied: contourpy>=1.0.1 in /usr/local/lib/python3.10/dist-packages (from matplotlib) (1.2.1)\n",
            "Requirement already satisfied: cycler>=0.10 in /usr/local/lib/python3.10/dist-packages (from matplotlib) (0.12.1)\n",
            "Requirement already satisfied: fonttools>=4.22.0 in /usr/local/lib/python3.10/dist-packages (from matplotlib) (4.51.0)\n",
            "Requirement already satisfied: kiwisolver>=1.0.1 in /usr/local/lib/python3.10/dist-packages (from matplotlib) (1.4.5)\n",
            "Requirement already satisfied: pillow>=6.2.0 in /usr/local/lib/python3.10/dist-packages (from matplotlib) (9.4.0)\n",
            "Requirement already satisfied: pyparsing>=2.3.1 in /usr/local/lib/python3.10/dist-packages (from matplotlib) (3.1.2)\n",
            "Requirement already satisfied: Mako in /usr/local/lib/python3.10/dist-packages (from alembic!=1.10.0,<2->mlflow) (1.3.5)\n",
            "Requirement already satisfied: typing-extensions>=4 in /usr/local/lib/python3.10/dist-packages (from alembic!=1.10.0,<2->mlflow) (4.11.0)\n",
            "Requirement already satisfied: urllib3>=1.26.0 in /usr/local/lib/python3.10/dist-packages (from docker<8,>=4.0.0->mlflow) (2.0.7)\n",
            "Requirement already satisfied: Werkzeug>=2.2.2 in /usr/local/lib/python3.10/dist-packages (from Flask<4->mlflow) (3.0.3)\n",
            "Requirement already satisfied: itsdangerous>=2.0 in /usr/local/lib/python3.10/dist-packages (from Flask<4->mlflow) (2.2.0)\n",
            "Requirement already satisfied: gitdb<5,>=4.0.1 in /usr/local/lib/python3.10/dist-packages (from gitpython<4,>=3.1.9->mlflow) (4.0.11)\n",
            "Requirement already satisfied: graphql-core<3.3,>=3.1 in /usr/local/lib/python3.10/dist-packages (from graphene<4->mlflow) (3.2.3)\n",
            "Requirement already satisfied: graphql-relay<3.3,>=3.1 in /usr/local/lib/python3.10/dist-packages (from graphene<4->mlflow) (3.2.0)\n",
            "Requirement already satisfied: aniso8601<10,>=8 in /usr/local/lib/python3.10/dist-packages (from graphene<4->mlflow) (9.0.1)\n",
            "Requirement already satisfied: zipp>=0.5 in /usr/local/lib/python3.10/dist-packages (from importlib-metadata!=4.7.0,<8,>=3.7.0->mlflow) (3.18.2)\n",
            "Requirement already satisfied: MarkupSafe>=2.0 in /usr/local/lib/python3.10/dist-packages (from Jinja2<4,>=2.11->mlflow) (2.1.5)\n",
            "Requirement already satisfied: deprecated>=1.2.6 in /usr/local/lib/python3.10/dist-packages (from opentelemetry-api<3,>=1.0.0->mlflow) (1.2.14)\n",
            "Requirement already satisfied: opentelemetry-semantic-conventions==0.45b0 in /usr/local/lib/python3.10/dist-packages (from opentelemetry-sdk<3,>=1.0.0->mlflow) (0.45b0)\n",
            "Requirement already satisfied: charset-normalizer<4,>=2 in /usr/local/lib/python3.10/dist-packages (from requests<3,>=2.17.3->mlflow) (3.3.2)\n",
            "Requirement already satisfied: idna<4,>=2.5 in /usr/local/lib/python3.10/dist-packages (from requests<3,>=2.17.3->mlflow) (3.7)\n",
            "Requirement already satisfied: certifi>=2017.4.17 in /usr/local/lib/python3.10/dist-packages (from requests<3,>=2.17.3->mlflow) (2024.2.2)\n",
            "Requirement already satisfied: greenlet!=0.4.17 in /usr/local/lib/python3.10/dist-packages (from sqlalchemy<3,>=1.4.0->mlflow) (3.0.3)\n",
            "Requirement already satisfied: wrapt<2,>=1.10 in /usr/local/lib/python3.10/dist-packages (from deprecated>=1.2.6->opentelemetry-api<3,>=1.0.0->mlflow) (1.14.1)\n",
            "Requirement already satisfied: smmap<6,>=3.0.1 in /usr/local/lib/python3.10/dist-packages (from gitdb<5,>=4.0.1->gitpython<4,>=3.1.9->mlflow) (5.0.1)\n"
          ]
        }
      ],
      "source": [
        "!pip install mlflow scikit-learn pandas fastparquet hyperopt matplotlib"
      ]
    },
    {
      "cell_type": "code",
      "execution_count": 3,
      "metadata": {
        "colab": {
          "base_uri": "https://localhost:8080/"
        },
        "id": "CglNYauybBDQ",
        "outputId": "75833c7d-20fc-4184-90c5-8d9f224e25c9"
      },
      "outputs": [
        {
          "name": "stdout",
          "output_type": "stream",
          "text": [
            "mlflow, version 2.13.0\n"
          ]
        }
      ],
      "source": [
        "!mlflow --version"
      ]
    },
    {
      "cell_type": "markdown",
      "metadata": {
        "id": "HM5y7m9Iwdp_"
      },
      "source": [
        "# **Q2. Download and preprocess the data**"
      ]
    },
    {
      "cell_type": "markdown",
      "metadata": {
        "id": "kRiiRtkkwinb"
      },
      "source": [
        "## Write the code for `preprocess_data.py`"
      ]
    },
    {
      "cell_type": "code",
      "execution_count": 4,
      "metadata": {
        "colab": {
          "base_uri": "https://localhost:8080/"
        },
        "id": "PmChn7_VubQB",
        "outputId": "e653e903-4f87-4309-f362-a3670d9cd384"
      },
      "outputs": [
        {
          "name": "stdout",
          "output_type": "stream",
          "text": [
            "Writing preprocess_data.py\n"
          ]
        }
      ],
      "source": [
        "%%writefile preprocess_data.py\n",
        "import os\n",
        "import pickle\n",
        "import click\n",
        "import pandas as pd\n",
        "\n",
        "from sklearn.feature_extraction import DictVectorizer\n",
        "\n",
        "\n",
        "def dump_pickle(obj, filename: str):\n",
        "    with open(filename, \"wb\") as f_out:\n",
        "        return pickle.dump(obj, f_out)\n",
        "\n",
        "\n",
        "def read_dataframe(filename: str):\n",
        "    df = pd.read_parquet(filename)\n",
        "\n",
        "    df['duration'] = df['lpep_dropoff_datetime'] - df['lpep_pickup_datetime']\n",
        "    df.duration = df.duration.apply(lambda td: td.total_seconds() / 60)\n",
        "    df = df[(df.duration >= 1) & (df.duration <= 60)]\n",
        "\n",
        "    categorical = ['PULocationID', 'DOLocationID']\n",
        "    df[categorical] = df[categorical].astype(str)\n",
        "\n",
        "    return df\n",
        "\n",
        "\n",
        "def preprocess(df: pd.DataFrame, dv: DictVectorizer, fit_dv: bool = False):\n",
        "    df['PU_DO'] = df['PULocationID'] + '_' + df['DOLocationID']\n",
        "    categorical = ['PU_DO']\n",
        "    numerical = ['trip_distance']\n",
        "    dicts = df[categorical + numerical].to_dict(orient='records')\n",
        "    if fit_dv:\n",
        "        X = dv.fit_transform(dicts)\n",
        "    else:\n",
        "        X = dv.transform(dicts)\n",
        "    return X, dv\n",
        "\n",
        "\n",
        "@click.command()\n",
        "@click.option(\n",
        "    \"--raw_data_path\",\n",
        "    help=\"Location where the raw NYC taxi trip data was saved\"\n",
        ")\n",
        "@click.option(\n",
        "    \"--dest_path\",\n",
        "    help=\"Location where the resulting files will be saved\"\n",
        ")\n",
        "def run_data_prep(raw_data_path: str, dest_path: str, dataset: str = \"green\"):\n",
        "    # Load parquet files\n",
        "    df_train = read_dataframe(\n",
        "        os.path.join(raw_data_path, f\"{dataset}_tripdata_2023-01.parquet\")\n",
        "    )\n",
        "    df_val = read_dataframe(\n",
        "        os.path.join(raw_data_path, f\"{dataset}_tripdata_2023-02.parquet\")\n",
        "    )\n",
        "    df_test = read_dataframe(\n",
        "        os.path.join(raw_data_path, f\"{dataset}_tripdata_2023-03.parquet\")\n",
        "    )\n",
        "\n",
        "    # Extract the target\n",
        "    target = 'duration'\n",
        "    y_train = df_train[target].values\n",
        "    y_val = df_val[target].values\n",
        "    y_test = df_test[target].values\n",
        "\n",
        "    # Fit the DictVectorizer and preprocess data\n",
        "    dv = DictVectorizer()\n",
        "    X_train, dv = preprocess(df_train, dv, fit_dv=True)\n",
        "    X_val, _ = preprocess(df_val, dv, fit_dv=False)\n",
        "    X_test, _ = preprocess(df_test, dv, fit_dv=False)\n",
        "\n",
        "    # Create dest_path folder unless it already exists\n",
        "    os.makedirs(dest_path, exist_ok=True)\n",
        "\n",
        "    # Save DictVectorizer and datasets\n",
        "    dump_pickle(dv, os.path.join(dest_path, \"dv.pkl\"))\n",
        "    dump_pickle((X_train, y_train), os.path.join(dest_path, \"train.pkl\"))\n",
        "    dump_pickle((X_val, y_val), os.path.join(dest_path, \"val.pkl\"))\n",
        "    dump_pickle((X_test, y_test), os.path.join(dest_path, \"test.pkl\"))\n",
        "\n",
        "\n",
        "if __name__ == '__main__':\n",
        "    run_data_prep()"
      ]
    },
    {
      "cell_type": "code",
      "execution_count": 5,
      "metadata": {
        "id": "HA_0v0vjw_QQ"
      },
      "outputs": [],
      "source": [
        "!python preprocess_data.py --raw_data_path hw2_data --dest_path output"
      ]
    },
    {
      "cell_type": "code",
      "execution_count": 6,
      "metadata": {
        "colab": {
          "base_uri": "https://localhost:8080/"
        },
        "id": "zAR9yYblxPcO",
        "outputId": "8fd94f09-dd21-402a-8bd7-5ee0ede8a9c1"
      },
      "outputs": [
        {
          "name": "stdout",
          "output_type": "stream",
          "text": [
            "       4\n"
          ]
        }
      ],
      "source": [
        "# Calculate how many files were saved to OUTPUT_FOLDER\n",
        "!ls output | wc -l"
      ]
    },
    {
      "cell_type": "markdown",
      "metadata": {
        "id": "3zVJ8OfqxeMN"
      },
      "source": [
        "# **Q3. Train a model with autolog**"
      ]
    },
    {
      "cell_type": "markdown",
      "metadata": {
        "id": "17mfQeaizzoS"
      },
      "source": [
        "## Write the code for `train.py`"
      ]
    },
    {
      "cell_type": "code",
      "execution_count": 14,
      "metadata": {
        "colab": {
          "base_uri": "https://localhost:8080/"
        },
        "id": "Yi7e2eBtzkop",
        "outputId": "a5d544a5-13a4-4a8d-f054-5525c2b8a553"
      },
      "outputs": [
        {
          "name": "stdout",
          "output_type": "stream",
          "text": [
            "Overwriting train.py\n"
          ]
        }
      ],
      "source": [
        "%%writefile train.py\n",
        "import os\n",
        "import pickle\n",
        "import click\n",
        "import mlflow\n",
        "\n",
        "from sklearn.ensemble import RandomForestRegressor\n",
        "from sklearn.metrics import mean_squared_error\n",
        "\n",
        "\n",
        "def load_pickle(filename: str):\n",
        "    with open(filename, \"rb\") as f_in:\n",
        "        return pickle.load(f_in)\n",
        "\n",
        "\n",
        "@click.command()\n",
        "@click.option(\n",
        "    \"--data_path\",\n",
        "    default=\"./output\",\n",
        "    help=\"Location where the processed NYC taxi trip data was saved\"\n",
        ")\n",
        "def run_train(data_path: str):\n",
        "    mlflow.set_tracking_uri(\"sqlite:///mlflow.db\")\n",
        "    mlflow.set_experiment(\"homework-2\")\n",
        "    mlflow.sklearn.autolog()\n",
        "    with mlflow.start_run():\n",
        "                \n",
        "        mlflow.set_tag(\"Developer\", \"Burak\")\n",
        "        mlflow.log_param(\"train-data-path\", \"./hw2_data/green_tripdata_2023-01.parquet\")\n",
        "        mlflow.log_param(\"val-data-path\", \"./hw2_data/green_tripdata_2023-02.parquet\")\n",
        "        mlflow.log_param(\"test-data-path\", \"./hw2_data/green_tripdata_2023-03.parquet\")\n",
        "        \n",
        "        X_train, y_train = load_pickle(os.path.join(data_path, \"train.pkl\"))\n",
        "        X_val, y_val = load_pickle(os.path.join(data_path, \"val.pkl\"))\n",
        "        \n",
        "        max_depth, random_state = 10, 0\n",
        "        rf = RandomForestRegressor(max_depth=max_depth, random_state=random_state)\n",
        "        rf.fit(X_train, y_train)\n",
        "        y_pred = rf.predict(X_val)\n",
        "        \n",
        "        mlflow.log_param(\"max_depth\", max_depth)\n",
        "        mlflow.log_param(\"random_state\", random_state)\n",
        "\n",
        "        rmse = mean_squared_error(y_val, y_pred, squared=False)\n",
        "        \n",
        "        mlflow.log_metric(\"rmse\", rmse)\n",
        "\n",
        "\n",
        "if __name__ == '__main__':\n",
        "    run_train()\n"
      ]
    },
    {
      "cell_type": "code",
      "execution_count": 4,
      "metadata": {},
      "outputs": [
        {
          "name": "stdout",
          "output_type": "stream",
          "text": [
            "2024/05/31 17:08:06 WARNING mlflow.utils.autologging_utils: You are using an unsupported version of sklearn. If you encounter errors during autologging, try upgrading / downgrading sklearn to a supported version, or try upgrading MLflow.\n",
            "2024/05/31 17:08:06 WARNING mlflow.sklearn: Failed to log training dataset information to MLflow Tracking. Reason: 'numpy.ndarray' object has no attribute 'toarray'\n",
            "2024/05/31 17:08:14 WARNING mlflow.utils.autologging_utils: MLflow autologging encountered a warning: \"/Users/burakteke/miniconda3/envs/mlops-hw2/lib/python3.10/site-packages/_distutils_hack/__init__.py:26: UserWarning: Setuptools is replacing distutils.\"\n",
            "/Users/burakteke/miniconda3/envs/mlops-hw2/lib/python3.10/site-packages/sklearn/metrics/_regression.py:492: FutureWarning: 'squared' is deprecated in version 1.4 and will be removed in 1.6. To calculate the root mean squared error, use the function'root_mean_squared_error'.\n",
            "  warnings.warn(\n"
          ]
        }
      ],
      "source": [
        "!python train.py"
      ]
    },
    {
      "cell_type": "markdown",
      "metadata": {},
      "source": [
        "# **Q4. Launch the tracking server locally**"
      ]
    },
    {
      "cell_type": "markdown",
      "metadata": {},
      "source": [
        "### Launched the tracking server locally on MacOS terminal using the command below.\n",
        "\n",
        "`mlflow ui --backend-store-uri sqlite:///mlflow.db --default-artifact-root artifacts`"
      ]
    },
    {
      "cell_type": "markdown",
      "metadata": {},
      "source": [
        "# **Q5. Tune model hyperparameters**"
      ]
    },
    {
      "cell_type": "markdown",
      "metadata": {},
      "source": [
        "## Write the code for `hpo.py`"
      ]
    },
    {
      "cell_type": "code",
      "execution_count": 8,
      "metadata": {},
      "outputs": [
        {
          "name": "stdout",
          "output_type": "stream",
          "text": [
            "Writing hpo.py\n"
          ]
        }
      ],
      "source": [
        "%%writefile hpo.py\n",
        "import os\n",
        "import pickle\n",
        "import click\n",
        "import mlflow\n",
        "import numpy as np\n",
        "from hyperopt import STATUS_OK, Trials, fmin, hp, tpe\n",
        "from hyperopt.pyll import scope\n",
        "from sklearn.ensemble import RandomForestRegressor\n",
        "from sklearn.metrics import mean_squared_error\n",
        "\n",
        "mlflow.set_tracking_uri(\"http://127.0.0.1:5000\") #\"sqlite:///mlflow.db\"\n",
        "mlflow.set_experiment(\"random-forest-hyperopt\")\n",
        "\n",
        "\n",
        "def load_pickle(filename: str):\n",
        "    with open(filename, \"rb\") as f_in:\n",
        "        return pickle.load(f_in)\n",
        "\n",
        "\n",
        "@click.command()\n",
        "@click.option(\n",
        "    \"--data_path\",\n",
        "    default=\"./output\",\n",
        "    help=\"Location where the processed NYC taxi trip data was saved\"\n",
        ")\n",
        "@click.option(\n",
        "    \"--num_trials\",\n",
        "    default=15,\n",
        "    help=\"The number of parameter evaluations for the optimizer to explore\"\n",
        ")\n",
        "def run_optimization(data_path: str, num_trials: int):\n",
        "\n",
        "    X_train, y_train = load_pickle(os.path.join(data_path, \"train.pkl\"))\n",
        "    X_val, y_val = load_pickle(os.path.join(data_path, \"val.pkl\"))\n",
        "\n",
        "    def objective(params):\n",
        "        \n",
        "        with mlflow.start_run():\n",
        "            mlflow.set_tag(\"model\", \"RandomForestRegressor\")\n",
        "            mlflow.log_params(params)\n",
        "            \n",
        "            rf = RandomForestRegressor(**params)\n",
        "            rf.fit(X_train, y_train)\n",
        "            y_pred = rf.predict(X_val)\n",
        "            rmse = mean_squared_error(y_val, y_pred, squared=False)\n",
        "            \n",
        "            mlflow.log_metric(\"rmse\", rmse)\n",
        "\n",
        "        return {'loss': rmse, 'status': STATUS_OK}\n",
        "\n",
        "    search_space = {\n",
        "        'max_depth': scope.int(hp.quniform('max_depth', 1, 20, 1)),\n",
        "        'n_estimators': scope.int(hp.quniform('n_estimators', 10, 50, 1)),\n",
        "        'min_samples_split': scope.int(hp.quniform('min_samples_split', 2, 10, 1)),\n",
        "        'min_samples_leaf': scope.int(hp.quniform('min_samples_leaf', 1, 4, 1)),\n",
        "        'random_state': 42\n",
        "    }\n",
        "\n",
        "    rstate = np.random.default_rng(42)  # for reproducible results\n",
        "    best_result = fmin(\n",
        "                fn=objective,\n",
        "                space=search_space,\n",
        "                algo=tpe.suggest,\n",
        "                max_evals=num_trials,\n",
        "                trials=Trials(),\n",
        "                rstate=rstate\n",
        "                )\n",
        "\n",
        "\n",
        "if __name__ == '__main__':\n",
        "    run_optimization()"
      ]
    },
    {
      "cell_type": "code",
      "execution_count": 9,
      "metadata": {},
      "outputs": [
        {
          "name": "stdout",
          "output_type": "stream",
          "text": [
            "2024/05/31 23:04:36 INFO mlflow.tracking.fluent: Experiment with name 'random-forest-hyperopt' does not exist. Creating a new experiment.\n",
            "  0%|                                    | 0/15 [00:00<?, ?trial/s, best loss=?]/Users/burakteke/miniconda3/envs/mlops-hw2/lib/python3.10/site-packages/sklearn/metrics/_regression.py:492: FutureWarning: 'squared' is deprecated in version 1.4 and will be removed in 1.6. To calculate the root mean squared error, use the function'root_mean_squared_error'.\n",
            "  warnings.warn(\n",
            "\n",
            "  7%|▋          | 1/15 [00:04<00:58,  4.15s/trial, best loss: 5.370086069268862]/Users/burakteke/miniconda3/envs/mlops-hw2/lib/python3.10/site-packages/sklearn/metrics/_regression.py:492: FutureWarning: 'squared' is deprecated in version 1.4 and will be removed in 1.6. To calculate the root mean squared error, use the function'root_mean_squared_error'.\n",
            "  warnings.warn(\n",
            "\n",
            " 13%|█▍         | 2/15 [00:04<00:24,  1.92s/trial, best loss: 5.370086069268862]/Users/burakteke/miniconda3/envs/mlops-hw2/lib/python3.10/site-packages/sklearn/metrics/_regression.py:492: FutureWarning: 'squared' is deprecated in version 1.4 and will be removed in 1.6. To calculate the root mean squared error, use the function'root_mean_squared_error'.\n",
            "  warnings.warn(\n",
            "\n",
            " 20%|██▏        | 3/15 [00:04<00:15,  1.26s/trial, best loss: 5.370086069268862]/Users/burakteke/miniconda3/envs/mlops-hw2/lib/python3.10/site-packages/sklearn/metrics/_regression.py:492: FutureWarning: 'squared' is deprecated in version 1.4 and will be removed in 1.6. To calculate the root mean squared error, use the function'root_mean_squared_error'.\n",
            "  warnings.warn(\n",
            "\n",
            " 27%|██▉        | 4/15 [00:07<00:20,  1.91s/trial, best loss: 5.357490752366866]/Users/burakteke/miniconda3/envs/mlops-hw2/lib/python3.10/site-packages/sklearn/metrics/_regression.py:492: FutureWarning: 'squared' is deprecated in version 1.4 and will be removed in 1.6. To calculate the root mean squared error, use the function'root_mean_squared_error'.\n",
            "  warnings.warn(\n",
            "\n",
            " 33%|███▋       | 5/15 [00:09<00:17,  1.74s/trial, best loss: 5.357490752366866]/Users/burakteke/miniconda3/envs/mlops-hw2/lib/python3.10/site-packages/sklearn/metrics/_regression.py:492: FutureWarning: 'squared' is deprecated in version 1.4 and will be removed in 1.6. To calculate the root mean squared error, use the function'root_mean_squared_error'.\n",
            "  warnings.warn(\n",
            "\n",
            " 40%|████▍      | 6/15 [00:13<00:24,  2.69s/trial, best loss: 5.354700855292386]/Users/burakteke/miniconda3/envs/mlops-hw2/lib/python3.10/site-packages/sklearn/metrics/_regression.py:492: FutureWarning: 'squared' is deprecated in version 1.4 and will be removed in 1.6. To calculate the root mean squared error, use the function'root_mean_squared_error'.\n",
            "  warnings.warn(\n",
            "\n",
            " 47%|█████▏     | 7/15 [00:18<00:25,  3.22s/trial, best loss: 5.354700855292386]/Users/burakteke/miniconda3/envs/mlops-hw2/lib/python3.10/site-packages/sklearn/metrics/_regression.py:492: FutureWarning: 'squared' is deprecated in version 1.4 and will be removed in 1.6. To calculate the root mean squared error, use the function'root_mean_squared_error'.\n",
            "  warnings.warn(\n",
            "\n",
            " 53%|█████▊     | 8/15 [00:18<00:16,  2.41s/trial, best loss: 5.354700855292386]/Users/burakteke/miniconda3/envs/mlops-hw2/lib/python3.10/site-packages/sklearn/metrics/_regression.py:492: FutureWarning: 'squared' is deprecated in version 1.4 and will be removed in 1.6. To calculate the root mean squared error, use the function'root_mean_squared_error'.\n",
            "  warnings.warn(\n",
            "\n",
            " 60%|██████▌    | 9/15 [00:21<00:15,  2.53s/trial, best loss: 5.354700855292386]/Users/burakteke/miniconda3/envs/mlops-hw2/lib/python3.10/site-packages/sklearn/metrics/_regression.py:492: FutureWarning: 'squared' is deprecated in version 1.4 and will be removed in 1.6. To calculate the root mean squared error, use the function'root_mean_squared_error'.\n",
            "  warnings.warn(\n",
            "\n",
            " 67%|██████▋   | 10/15 [00:24<00:12,  2.54s/trial, best loss: 5.354700855292386]/Users/burakteke/miniconda3/envs/mlops-hw2/lib/python3.10/site-packages/sklearn/metrics/_regression.py:492: FutureWarning: 'squared' is deprecated in version 1.4 and will be removed in 1.6. To calculate the root mean squared error, use the function'root_mean_squared_error'.\n",
            "  warnings.warn(\n",
            "\n",
            " 73%|███████▎  | 11/15 [00:26<00:09,  2.32s/trial, best loss: 5.335419588556921]/Users/burakteke/miniconda3/envs/mlops-hw2/lib/python3.10/site-packages/sklearn/metrics/_regression.py:492: FutureWarning: 'squared' is deprecated in version 1.4 and will be removed in 1.6. To calculate the root mean squared error, use the function'root_mean_squared_error'.\n",
            "  warnings.warn(\n",
            "\n",
            " 80%|████████  | 12/15 [00:27<00:06,  2.10s/trial, best loss: 5.335419588556921]/Users/burakteke/miniconda3/envs/mlops-hw2/lib/python3.10/site-packages/sklearn/metrics/_regression.py:492: FutureWarning: 'squared' is deprecated in version 1.4 and will be removed in 1.6. To calculate the root mean squared error, use the function'root_mean_squared_error'.\n",
            "  warnings.warn(\n",
            "\n",
            " 87%|████████▋ | 13/15 [00:28<00:03,  1.65s/trial, best loss: 5.335419588556921]/Users/burakteke/miniconda3/envs/mlops-hw2/lib/python3.10/site-packages/sklearn/metrics/_regression.py:492: FutureWarning: 'squared' is deprecated in version 1.4 and will be removed in 1.6. To calculate the root mean squared error, use the function'root_mean_squared_error'.\n",
            "  warnings.warn(\n",
            "\n",
            " 93%|█████████▎| 14/15 [00:29<00:01,  1.61s/trial, best loss: 5.335419588556921]/Users/burakteke/miniconda3/envs/mlops-hw2/lib/python3.10/site-packages/sklearn/metrics/_regression.py:492: FutureWarning: 'squared' is deprecated in version 1.4 and will be removed in 1.6. To calculate the root mean squared error, use the function'root_mean_squared_error'.\n",
            "  warnings.warn(\n",
            "\n",
            "100%|██████████| 15/15 [00:32<00:00,  2.14s/trial, best loss: 5.335419588556921]\n"
          ]
        }
      ],
      "source": [
        "!python hpo.py"
      ]
    },
    {
      "cell_type": "markdown",
      "metadata": {},
      "source": [
        "# **Q6. Promote the best model to the model registry**"
      ]
    },
    {
      "cell_type": "markdown",
      "metadata": {},
      "source": [
        "## Write the code for `register_model.py`"
      ]
    },
    {
      "cell_type": "code",
      "execution_count": 15,
      "metadata": {},
      "outputs": [
        {
          "name": "stdout",
          "output_type": "stream",
          "text": [
            "Overwriting register_model.py\n"
          ]
        }
      ],
      "source": [
        "%%writefile register_model.py\n",
        "import os\n",
        "import pickle\n",
        "import click\n",
        "import mlflow\n",
        "\n",
        "from mlflow.entities import ViewType\n",
        "from mlflow.tracking import MlflowClient\n",
        "from sklearn.ensemble import RandomForestRegressor\n",
        "from sklearn.metrics import mean_squared_error\n",
        "\n",
        "HPO_EXPERIMENT_NAME = \"random-forest-hyperopt\"\n",
        "EXPERIMENT_NAME = \"random-forest-best-models\"\n",
        "RF_PARAMS = ['max_depth', 'n_estimators', 'min_samples_split', 'min_samples_leaf', 'random_state']\n",
        "\n",
        "mlflow.set_tracking_uri(\"http://127.0.0.1:5000\")\n",
        "mlflow.set_experiment(EXPERIMENT_NAME)\n",
        "mlflow.sklearn.autolog()\n",
        "\n",
        "\n",
        "def load_pickle(filename):\n",
        "    with open(filename, \"rb\") as f_in:\n",
        "        return pickle.load(f_in)\n",
        "\n",
        "\n",
        "def train_and_log_model(data_path, params):\n",
        "    X_train, y_train = load_pickle(os.path.join(data_path, \"train.pkl\"))\n",
        "    X_val, y_val = load_pickle(os.path.join(data_path, \"val.pkl\"))\n",
        "    X_test, y_test = load_pickle(os.path.join(data_path, \"test.pkl\"))\n",
        "\n",
        "    with mlflow.start_run():\n",
        "        new_params = {}\n",
        "        for param in RF_PARAMS:\n",
        "            new_params[param] = int(params[param])\n",
        "\n",
        "        rf = RandomForestRegressor(**new_params)\n",
        "        rf.fit(X_train, y_train)\n",
        "\n",
        "        # Evaluate model on the validation and test sets\n",
        "        val_rmse = mean_squared_error(y_val, rf.predict(X_val), squared=False)\n",
        "        mlflow.log_metric(\"val_rmse\", val_rmse)\n",
        "        test_rmse = mean_squared_error(y_test, rf.predict(X_test), squared=False)\n",
        "        mlflow.log_metric(\"test_rmse\", test_rmse)\n",
        "\n",
        "\n",
        "@click.command()\n",
        "@click.option(\n",
        "    \"--data_path\",\n",
        "    default=\"./output\",\n",
        "    help=\"Location where the processed NYC taxi trip data was saved\"\n",
        ")\n",
        "@click.option(\n",
        "    \"--top_n\",\n",
        "    default=5,\n",
        "    type=int,\n",
        "    help=\"Number of top models that need to be evaluated to decide which one to promote\"\n",
        ")\n",
        "def run_register_model(data_path: str, top_n: int):\n",
        "\n",
        "    client = MlflowClient()\n",
        "\n",
        "    # Retrieve the top_n model runs and log the models\n",
        "    experiment = client.get_experiment_by_name(HPO_EXPERIMENT_NAME)\n",
        "    runs = client.search_runs(\n",
        "        experiment_ids=experiment.experiment_id,\n",
        "        run_view_type=ViewType.ACTIVE_ONLY,\n",
        "        max_results=top_n,\n",
        "        order_by=[\"metrics.rmse ASC\"]\n",
        "    )\n",
        "    for run in runs:\n",
        "        train_and_log_model(data_path=data_path, params=run.data.params)\n",
        "\n",
        "    # Select the model with the lowest test RMSE\n",
        "    experiment = client.get_experiment_by_name(EXPERIMENT_NAME)\n",
        "    best_run = client.search_runs(\n",
        "        experiment_ids=experiment.experiment_id,\n",
        "        run_view_type=ViewType.ALL,\n",
        "        order_by=[\"metrics.test_rmse ASC\"]\n",
        "        )[0]\n",
        "    \n",
        "    print(f\"Best run test RMSE is: {best_run.data.metrics['test_rmse']:.4f}\")\n",
        "    model_uri = f\"runs:/{best_run.info.run_id}/model\"\n",
        "    # Register the best model\n",
        "    mlflow.register_model(model_uri=model_uri, name=\"nyc-taxi-best-regressor-model\")\n",
        "\n",
        "\n",
        "if __name__ == '__main__':\n",
        "    run_register_model()"
      ]
    },
    {
      "cell_type": "code",
      "execution_count": 16,
      "metadata": {},
      "outputs": [
        {
          "name": "stdout",
          "output_type": "stream",
          "text": [
            "2024/06/01 00:28:44 WARNING mlflow.utils.autologging_utils: You are using an unsupported version of sklearn. If you encounter errors during autologging, try upgrading / downgrading sklearn to a supported version, or try upgrading MLflow.\n",
            "2024/06/01 00:28:44 WARNING mlflow.sklearn: Failed to log training dataset information to MLflow Tracking. Reason: 'numpy.ndarray' object has no attribute 'toarray'\n",
            "2024/06/01 00:28:48 WARNING mlflow.utils.autologging_utils: MLflow autologging encountered a warning: \"/Users/burakteke/miniconda3/envs/mlops-hw2/lib/python3.10/site-packages/_distutils_hack/__init__.py:26: UserWarning: Setuptools is replacing distutils.\"\n",
            "/Users/burakteke/miniconda3/envs/mlops-hw2/lib/python3.10/site-packages/sklearn/metrics/_regression.py:492: FutureWarning: 'squared' is deprecated in version 1.4 and will be removed in 1.6. To calculate the root mean squared error, use the function'root_mean_squared_error'.\n",
            "  warnings.warn(\n",
            "/Users/burakteke/miniconda3/envs/mlops-hw2/lib/python3.10/site-packages/sklearn/metrics/_regression.py:492: FutureWarning: 'squared' is deprecated in version 1.4 and will be removed in 1.6. To calculate the root mean squared error, use the function'root_mean_squared_error'.\n",
            "  warnings.warn(\n",
            "2024/06/01 00:28:52 WARNING mlflow.sklearn: Failed to log training dataset information to MLflow Tracking. Reason: 'numpy.ndarray' object has no attribute 'toarray'\n",
            "/Users/burakteke/miniconda3/envs/mlops-hw2/lib/python3.10/site-packages/sklearn/metrics/_regression.py:492: FutureWarning: 'squared' is deprecated in version 1.4 and will be removed in 1.6. To calculate the root mean squared error, use the function'root_mean_squared_error'.\n",
            "  warnings.warn(\n",
            "/Users/burakteke/miniconda3/envs/mlops-hw2/lib/python3.10/site-packages/sklearn/metrics/_regression.py:492: FutureWarning: 'squared' is deprecated in version 1.4 and will be removed in 1.6. To calculate the root mean squared error, use the function'root_mean_squared_error'.\n",
            "  warnings.warn(\n",
            "2024/06/01 00:29:01 WARNING mlflow.sklearn: Failed to log training dataset information to MLflow Tracking. Reason: 'numpy.ndarray' object has no attribute 'toarray'\n",
            "/Users/burakteke/miniconda3/envs/mlops-hw2/lib/python3.10/site-packages/sklearn/metrics/_regression.py:492: FutureWarning: 'squared' is deprecated in version 1.4 and will be removed in 1.6. To calculate the root mean squared error, use the function'root_mean_squared_error'.\n",
            "  warnings.warn(\n",
            "/Users/burakteke/miniconda3/envs/mlops-hw2/lib/python3.10/site-packages/sklearn/metrics/_regression.py:492: FutureWarning: 'squared' is deprecated in version 1.4 and will be removed in 1.6. To calculate the root mean squared error, use the function'root_mean_squared_error'.\n",
            "  warnings.warn(\n",
            "2024/06/01 00:29:08 WARNING mlflow.sklearn: Failed to log training dataset information to MLflow Tracking. Reason: 'numpy.ndarray' object has no attribute 'toarray'\n",
            "/Users/burakteke/miniconda3/envs/mlops-hw2/lib/python3.10/site-packages/sklearn/metrics/_regression.py:492: FutureWarning: 'squared' is deprecated in version 1.4 and will be removed in 1.6. To calculate the root mean squared error, use the function'root_mean_squared_error'.\n",
            "  warnings.warn(\n",
            "/Users/burakteke/miniconda3/envs/mlops-hw2/lib/python3.10/site-packages/sklearn/metrics/_regression.py:492: FutureWarning: 'squared' is deprecated in version 1.4 and will be removed in 1.6. To calculate the root mean squared error, use the function'root_mean_squared_error'.\n",
            "  warnings.warn(\n",
            "2024/06/01 00:29:15 WARNING mlflow.sklearn: Failed to log training dataset information to MLflow Tracking. Reason: 'numpy.ndarray' object has no attribute 'toarray'\n",
            "/Users/burakteke/miniconda3/envs/mlops-hw2/lib/python3.10/site-packages/sklearn/metrics/_regression.py:492: FutureWarning: 'squared' is deprecated in version 1.4 and will be removed in 1.6. To calculate the root mean squared error, use the function'root_mean_squared_error'.\n",
            "  warnings.warn(\n",
            "/Users/burakteke/miniconda3/envs/mlops-hw2/lib/python3.10/site-packages/sklearn/metrics/_regression.py:492: FutureWarning: 'squared' is deprecated in version 1.4 and will be removed in 1.6. To calculate the root mean squared error, use the function'root_mean_squared_error'.\n",
            "  warnings.warn(\n",
            "Best run test RMSE is: 5.5674\n",
            "Registered model 'nyc-taxi-best-regressor-model' already exists. Creating a new version of this model...\n",
            "2024/06/01 00:29:21 INFO mlflow.store.model_registry.abstract_store: Waiting up to 300 seconds for model version to finish creation. Model name: nyc-taxi-best-regressor-model, version 2\n",
            "Created version '2' of model 'nyc-taxi-best-regressor-model'.\n"
          ]
        }
      ],
      "source": [
        "!python register_model.py"
      ]
    },
    {
      "cell_type": "markdown",
      "metadata": {},
      "source": [
        "# **References**"
      ]
    },
    {
      "cell_type": "markdown",
      "metadata": {},
      "source": [
        "[1] [https://mlflow.org/docs/latest/tracking.html#can-i-directly-access-remote-storage-without-running-the-tracking-server](https://mlflow.org/docs/latest/tracking.html#can-i-directly-access-remote-storage-without-running-the-tracking-server)\n",
        "\n",
        "[2] [https://mlflow.org/docs/latest/tracking.html#how-runs-and-artifacts-are-recorded](https://mlflow.org/docs/latest/tracking.html#how-runs-and-artifacts-are-recorded)\n",
        "\n",
        "[3] [https://mlflow.org/docs/latest/tracking/autolog.html#scikit-learn](https://mlflow.org/docs/latest/tracking/autolog.html#scikit-learn)\n",
        "\n",
        "[4] [https://mlflow.org/docs/latest/python_api/mlflow.client.html#mlflow.client.MlflowClient.search_runs](https://mlflow.org/docs/latest/python_api/mlflow.client.html#mlflow.client.MlflowClient.search_runs)"
      ]
    }
  ],
  "metadata": {
    "colab": {
      "provenance": []
    },
    "kernelspec": {
      "display_name": "mlops",
      "language": "python",
      "name": "python3"
    },
    "language_info": {
      "codemirror_mode": {
        "name": "ipython",
        "version": 3
      },
      "file_extension": ".py",
      "mimetype": "text/x-python",
      "name": "python",
      "nbconvert_exporter": "python",
      "pygments_lexer": "ipython3",
      "version": "3.10.14"
    }
  },
  "nbformat": 4,
  "nbformat_minor": 0
}
