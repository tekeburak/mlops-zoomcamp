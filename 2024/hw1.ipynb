{
  "cells": [
    {
      "cell_type": "markdown",
      "source": [
        "# **Prepare Environment and Install Dependencies**"
      ],
      "metadata": {
        "id": "Ne9h-_xQVF9m"
      }
    },
    {
      "cell_type": "code",
      "execution_count": 1,
      "metadata": {
        "colab": {
          "base_uri": "https://localhost:8080/"
        },
        "id": "Wr3W_GjACzyD",
        "outputId": "9514a1ad-3b8c-4c13-d193-f0b270976423"
      },
      "outputs": [
        {
          "output_type": "stream",
          "name": "stdout",
          "text": [
            "Python 3.10.12\n"
          ]
        }
      ],
      "source": [
        "# Check python version\n",
        "!python --version"
      ]
    },
    {
      "cell_type": "code",
      "source": [
        "# Install dependencies\n",
        "!pip install -U fastparquet scikit-learn"
      ],
      "metadata": {
        "colab": {
          "base_uri": "https://localhost:8080/"
        },
        "id": "t--0DpKRL3uN",
        "outputId": "2b519dbe-6671-4906-a5fb-10223357fabf"
      },
      "execution_count": 2,
      "outputs": [
        {
          "output_type": "stream",
          "name": "stdout",
          "text": [
            "Requirement already satisfied: fastparquet in /usr/local/lib/python3.10/dist-packages (2024.5.0)\n",
            "Requirement already satisfied: scikit-learn in /usr/local/lib/python3.10/dist-packages (1.5.0)\n",
            "Requirement already satisfied: pandas>=1.5.0 in /usr/local/lib/python3.10/dist-packages (from fastparquet) (2.0.3)\n",
            "Requirement already satisfied: numpy in /usr/local/lib/python3.10/dist-packages (from fastparquet) (1.25.2)\n",
            "Requirement already satisfied: cramjam>=2.3 in /usr/local/lib/python3.10/dist-packages (from fastparquet) (2.8.3)\n",
            "Requirement already satisfied: fsspec in /usr/local/lib/python3.10/dist-packages (from fastparquet) (2023.6.0)\n",
            "Requirement already satisfied: packaging in /usr/local/lib/python3.10/dist-packages (from fastparquet) (24.0)\n",
            "Requirement already satisfied: scipy>=1.6.0 in /usr/local/lib/python3.10/dist-packages (from scikit-learn) (1.11.4)\n",
            "Requirement already satisfied: joblib>=1.2.0 in /usr/local/lib/python3.10/dist-packages (from scikit-learn) (1.4.2)\n",
            "Requirement already satisfied: threadpoolctl>=3.1.0 in /usr/local/lib/python3.10/dist-packages (from scikit-learn) (3.5.0)\n",
            "Requirement already satisfied: python-dateutil>=2.8.2 in /usr/local/lib/python3.10/dist-packages (from pandas>=1.5.0->fastparquet) (2.8.2)\n",
            "Requirement already satisfied: pytz>=2020.1 in /usr/local/lib/python3.10/dist-packages (from pandas>=1.5.0->fastparquet) (2023.4)\n",
            "Requirement already satisfied: tzdata>=2022.1 in /usr/local/lib/python3.10/dist-packages (from pandas>=1.5.0->fastparquet) (2024.1)\n",
            "Requirement already satisfied: six>=1.5 in /usr/local/lib/python3.10/dist-packages (from python-dateutil>=2.8.2->pandas>=1.5.0->fastparquet) (1.16.0)\n"
          ]
        }
      ]
    },
    {
      "cell_type": "code",
      "execution_count": 3,
      "metadata": {
        "colab": {
          "base_uri": "https://localhost:8080/"
        },
        "id": "gi40NGbDCzyE",
        "outputId": "be307477-e2e2-4e68-c8bf-7a2b45a60c64"
      },
      "outputs": [
        {
          "output_type": "stream",
          "name": "stdout",
          "text": [
            "yellow_tripdata_2023-01.parquet  yellow_tripdata_2023-02.parquet\n"
          ]
        }
      ],
      "source": [
        "!ls tlc_trip_data"
      ]
    },
    {
      "cell_type": "markdown",
      "source": [
        "# **Q1. Downloading the data**"
      ],
      "metadata": {
        "id": "MVAOITkFUu-m"
      }
    },
    {
      "cell_type": "code",
      "source": [
        "# Read parquet file using pandas and process\n",
        "import pandas as pd\n",
        "yellow_january_data = pd.read_parquet('tlc_trip_data/yellow_tripdata_2023-01.parquet', engine='fastparquet')\n",
        "yellow_february_data = pd.read_parquet('tlc_trip_data/yellow_tripdata_2023-02.parquet', engine='fastparquet')\n",
        "row_jan, col_jan = yellow_january_data.shape\n",
        "row_feb, col_feb = yellow_february_data.shape\n",
        "print(f\"Columuns length of January data: {col_jan}.\")\n",
        "print(f\"Columuns length of February data: {col_feb}.\")"
      ],
      "metadata": {
        "colab": {
          "base_uri": "https://localhost:8080/"
        },
        "id": "kqf-pP8nLXrM",
        "outputId": "1a14fcd8-e4b0-422e-8a84-6ff48102fae3"
      },
      "execution_count": 4,
      "outputs": [
        {
          "output_type": "stream",
          "name": "stdout",
          "text": [
            "Columuns length of January data: 19.\n",
            "Columuns length of February data: 19.\n"
          ]
        }
      ]
    },
    {
      "cell_type": "code",
      "source": [
        "yellow_january_data"
      ],
      "metadata": {
        "colab": {
          "base_uri": "https://localhost:8080/",
          "height": 444
        },
        "id": "KfO_jfLKNytr",
        "outputId": "060d4b8d-12e8-4cc0-9e7b-30aca6aa201c"
      },
      "execution_count": 5,
      "outputs": [
        {
          "output_type": "execute_result",
          "data": {
            "text/plain": [
              "         VendorID tpep_pickup_datetime tpep_dropoff_datetime  passenger_count  \\\n",
              "0               2  2023-01-01 00:32:10   2023-01-01 00:40:36              1.0   \n",
              "1               2  2023-01-01 00:55:08   2023-01-01 01:01:27              1.0   \n",
              "2               2  2023-01-01 00:25:04   2023-01-01 00:37:49              1.0   \n",
              "3               1  2023-01-01 00:03:48   2023-01-01 00:13:25              0.0   \n",
              "4               2  2023-01-01 00:10:29   2023-01-01 00:21:19              1.0   \n",
              "...           ...                  ...                   ...              ...   \n",
              "3066761         2  2023-01-31 23:58:34   2023-02-01 00:12:33              NaN   \n",
              "3066762         2  2023-01-31 23:31:09   2023-01-31 23:50:36              NaN   \n",
              "3066763         2  2023-01-31 23:01:05   2023-01-31 23:25:36              NaN   \n",
              "3066764         2  2023-01-31 23:40:00   2023-01-31 23:53:00              NaN   \n",
              "3066765         2  2023-01-31 23:07:32   2023-01-31 23:21:56              NaN   \n",
              "\n",
              "         trip_distance  RatecodeID store_and_fwd_flag  PULocationID  \\\n",
              "0                 0.97         1.0                  N           161   \n",
              "1                 1.10         1.0                  N            43   \n",
              "2                 2.51         1.0                  N            48   \n",
              "3                 1.90         1.0                  N           138   \n",
              "4                 1.43         1.0                  N           107   \n",
              "...                ...         ...                ...           ...   \n",
              "3066761           3.05         NaN               None           107   \n",
              "3066762           5.80         NaN               None           112   \n",
              "3066763           4.67         NaN               None           114   \n",
              "3066764           3.15         NaN               None           230   \n",
              "3066765           2.85         NaN               None           262   \n",
              "\n",
              "         DOLocationID  payment_type  fare_amount  extra  mta_tax  tip_amount  \\\n",
              "0                 141             2         9.30   1.00      0.5        0.00   \n",
              "1                 237             1         7.90   1.00      0.5        4.00   \n",
              "2                 238             1        14.90   1.00      0.5       15.00   \n",
              "3                   7             1        12.10   7.25      0.5        0.00   \n",
              "4                  79             1        11.40   1.00      0.5        3.28   \n",
              "...               ...           ...          ...    ...      ...         ...   \n",
              "3066761            48             0        15.80   0.00      0.5        3.96   \n",
              "3066762            75             0        22.43   0.00      0.5        2.64   \n",
              "3066763           239             0        17.61   0.00      0.5        5.32   \n",
              "3066764            79             0        18.15   0.00      0.5        4.43   \n",
              "3066765           143             0        15.97   0.00      0.5        2.00   \n",
              "\n",
              "         tolls_amount  improvement_surcharge  total_amount  \\\n",
              "0                 0.0                    1.0         14.30   \n",
              "1                 0.0                    1.0         16.90   \n",
              "2                 0.0                    1.0         34.90   \n",
              "3                 0.0                    1.0         20.85   \n",
              "4                 0.0                    1.0         19.68   \n",
              "...               ...                    ...           ...   \n",
              "3066761           0.0                    1.0         23.76   \n",
              "3066762           0.0                    1.0         29.07   \n",
              "3066763           0.0                    1.0         26.93   \n",
              "3066764           0.0                    1.0         26.58   \n",
              "3066765           0.0                    1.0         21.97   \n",
              "\n",
              "         congestion_surcharge  airport_fee  \n",
              "0                         2.5         0.00  \n",
              "1                         2.5         0.00  \n",
              "2                         2.5         0.00  \n",
              "3                         0.0         1.25  \n",
              "4                         2.5         0.00  \n",
              "...                       ...          ...  \n",
              "3066761                   NaN          NaN  \n",
              "3066762                   NaN          NaN  \n",
              "3066763                   NaN          NaN  \n",
              "3066764                   NaN          NaN  \n",
              "3066765                   NaN          NaN  \n",
              "\n",
              "[3066766 rows x 19 columns]"
            ],
            "text/html": [
              "\n",
              "  <div id=\"df-5ab2f358-1374-4c99-8ee7-d7e69edaef95\" class=\"colab-df-container\">\n",
              "    <div>\n",
              "<style scoped>\n",
              "    .dataframe tbody tr th:only-of-type {\n",
              "        vertical-align: middle;\n",
              "    }\n",
              "\n",
              "    .dataframe tbody tr th {\n",
              "        vertical-align: top;\n",
              "    }\n",
              "\n",
              "    .dataframe thead th {\n",
              "        text-align: right;\n",
              "    }\n",
              "</style>\n",
              "<table border=\"1\" class=\"dataframe\">\n",
              "  <thead>\n",
              "    <tr style=\"text-align: right;\">\n",
              "      <th></th>\n",
              "      <th>VendorID</th>\n",
              "      <th>tpep_pickup_datetime</th>\n",
              "      <th>tpep_dropoff_datetime</th>\n",
              "      <th>passenger_count</th>\n",
              "      <th>trip_distance</th>\n",
              "      <th>RatecodeID</th>\n",
              "      <th>store_and_fwd_flag</th>\n",
              "      <th>PULocationID</th>\n",
              "      <th>DOLocationID</th>\n",
              "      <th>payment_type</th>\n",
              "      <th>fare_amount</th>\n",
              "      <th>extra</th>\n",
              "      <th>mta_tax</th>\n",
              "      <th>tip_amount</th>\n",
              "      <th>tolls_amount</th>\n",
              "      <th>improvement_surcharge</th>\n",
              "      <th>total_amount</th>\n",
              "      <th>congestion_surcharge</th>\n",
              "      <th>airport_fee</th>\n",
              "    </tr>\n",
              "  </thead>\n",
              "  <tbody>\n",
              "    <tr>\n",
              "      <th>0</th>\n",
              "      <td>2</td>\n",
              "      <td>2023-01-01 00:32:10</td>\n",
              "      <td>2023-01-01 00:40:36</td>\n",
              "      <td>1.0</td>\n",
              "      <td>0.97</td>\n",
              "      <td>1.0</td>\n",
              "      <td>N</td>\n",
              "      <td>161</td>\n",
              "      <td>141</td>\n",
              "      <td>2</td>\n",
              "      <td>9.30</td>\n",
              "      <td>1.00</td>\n",
              "      <td>0.5</td>\n",
              "      <td>0.00</td>\n",
              "      <td>0.0</td>\n",
              "      <td>1.0</td>\n",
              "      <td>14.30</td>\n",
              "      <td>2.5</td>\n",
              "      <td>0.00</td>\n",
              "    </tr>\n",
              "    <tr>\n",
              "      <th>1</th>\n",
              "      <td>2</td>\n",
              "      <td>2023-01-01 00:55:08</td>\n",
              "      <td>2023-01-01 01:01:27</td>\n",
              "      <td>1.0</td>\n",
              "      <td>1.10</td>\n",
              "      <td>1.0</td>\n",
              "      <td>N</td>\n",
              "      <td>43</td>\n",
              "      <td>237</td>\n",
              "      <td>1</td>\n",
              "      <td>7.90</td>\n",
              "      <td>1.00</td>\n",
              "      <td>0.5</td>\n",
              "      <td>4.00</td>\n",
              "      <td>0.0</td>\n",
              "      <td>1.0</td>\n",
              "      <td>16.90</td>\n",
              "      <td>2.5</td>\n",
              "      <td>0.00</td>\n",
              "    </tr>\n",
              "    <tr>\n",
              "      <th>2</th>\n",
              "      <td>2</td>\n",
              "      <td>2023-01-01 00:25:04</td>\n",
              "      <td>2023-01-01 00:37:49</td>\n",
              "      <td>1.0</td>\n",
              "      <td>2.51</td>\n",
              "      <td>1.0</td>\n",
              "      <td>N</td>\n",
              "      <td>48</td>\n",
              "      <td>238</td>\n",
              "      <td>1</td>\n",
              "      <td>14.90</td>\n",
              "      <td>1.00</td>\n",
              "      <td>0.5</td>\n",
              "      <td>15.00</td>\n",
              "      <td>0.0</td>\n",
              "      <td>1.0</td>\n",
              "      <td>34.90</td>\n",
              "      <td>2.5</td>\n",
              "      <td>0.00</td>\n",
              "    </tr>\n",
              "    <tr>\n",
              "      <th>3</th>\n",
              "      <td>1</td>\n",
              "      <td>2023-01-01 00:03:48</td>\n",
              "      <td>2023-01-01 00:13:25</td>\n",
              "      <td>0.0</td>\n",
              "      <td>1.90</td>\n",
              "      <td>1.0</td>\n",
              "      <td>N</td>\n",
              "      <td>138</td>\n",
              "      <td>7</td>\n",
              "      <td>1</td>\n",
              "      <td>12.10</td>\n",
              "      <td>7.25</td>\n",
              "      <td>0.5</td>\n",
              "      <td>0.00</td>\n",
              "      <td>0.0</td>\n",
              "      <td>1.0</td>\n",
              "      <td>20.85</td>\n",
              "      <td>0.0</td>\n",
              "      <td>1.25</td>\n",
              "    </tr>\n",
              "    <tr>\n",
              "      <th>4</th>\n",
              "      <td>2</td>\n",
              "      <td>2023-01-01 00:10:29</td>\n",
              "      <td>2023-01-01 00:21:19</td>\n",
              "      <td>1.0</td>\n",
              "      <td>1.43</td>\n",
              "      <td>1.0</td>\n",
              "      <td>N</td>\n",
              "      <td>107</td>\n",
              "      <td>79</td>\n",
              "      <td>1</td>\n",
              "      <td>11.40</td>\n",
              "      <td>1.00</td>\n",
              "      <td>0.5</td>\n",
              "      <td>3.28</td>\n",
              "      <td>0.0</td>\n",
              "      <td>1.0</td>\n",
              "      <td>19.68</td>\n",
              "      <td>2.5</td>\n",
              "      <td>0.00</td>\n",
              "    </tr>\n",
              "    <tr>\n",
              "      <th>...</th>\n",
              "      <td>...</td>\n",
              "      <td>...</td>\n",
              "      <td>...</td>\n",
              "      <td>...</td>\n",
              "      <td>...</td>\n",
              "      <td>...</td>\n",
              "      <td>...</td>\n",
              "      <td>...</td>\n",
              "      <td>...</td>\n",
              "      <td>...</td>\n",
              "      <td>...</td>\n",
              "      <td>...</td>\n",
              "      <td>...</td>\n",
              "      <td>...</td>\n",
              "      <td>...</td>\n",
              "      <td>...</td>\n",
              "      <td>...</td>\n",
              "      <td>...</td>\n",
              "      <td>...</td>\n",
              "    </tr>\n",
              "    <tr>\n",
              "      <th>3066761</th>\n",
              "      <td>2</td>\n",
              "      <td>2023-01-31 23:58:34</td>\n",
              "      <td>2023-02-01 00:12:33</td>\n",
              "      <td>NaN</td>\n",
              "      <td>3.05</td>\n",
              "      <td>NaN</td>\n",
              "      <td>None</td>\n",
              "      <td>107</td>\n",
              "      <td>48</td>\n",
              "      <td>0</td>\n",
              "      <td>15.80</td>\n",
              "      <td>0.00</td>\n",
              "      <td>0.5</td>\n",
              "      <td>3.96</td>\n",
              "      <td>0.0</td>\n",
              "      <td>1.0</td>\n",
              "      <td>23.76</td>\n",
              "      <td>NaN</td>\n",
              "      <td>NaN</td>\n",
              "    </tr>\n",
              "    <tr>\n",
              "      <th>3066762</th>\n",
              "      <td>2</td>\n",
              "      <td>2023-01-31 23:31:09</td>\n",
              "      <td>2023-01-31 23:50:36</td>\n",
              "      <td>NaN</td>\n",
              "      <td>5.80</td>\n",
              "      <td>NaN</td>\n",
              "      <td>None</td>\n",
              "      <td>112</td>\n",
              "      <td>75</td>\n",
              "      <td>0</td>\n",
              "      <td>22.43</td>\n",
              "      <td>0.00</td>\n",
              "      <td>0.5</td>\n",
              "      <td>2.64</td>\n",
              "      <td>0.0</td>\n",
              "      <td>1.0</td>\n",
              "      <td>29.07</td>\n",
              "      <td>NaN</td>\n",
              "      <td>NaN</td>\n",
              "    </tr>\n",
              "    <tr>\n",
              "      <th>3066763</th>\n",
              "      <td>2</td>\n",
              "      <td>2023-01-31 23:01:05</td>\n",
              "      <td>2023-01-31 23:25:36</td>\n",
              "      <td>NaN</td>\n",
              "      <td>4.67</td>\n",
              "      <td>NaN</td>\n",
              "      <td>None</td>\n",
              "      <td>114</td>\n",
              "      <td>239</td>\n",
              "      <td>0</td>\n",
              "      <td>17.61</td>\n",
              "      <td>0.00</td>\n",
              "      <td>0.5</td>\n",
              "      <td>5.32</td>\n",
              "      <td>0.0</td>\n",
              "      <td>1.0</td>\n",
              "      <td>26.93</td>\n",
              "      <td>NaN</td>\n",
              "      <td>NaN</td>\n",
              "    </tr>\n",
              "    <tr>\n",
              "      <th>3066764</th>\n",
              "      <td>2</td>\n",
              "      <td>2023-01-31 23:40:00</td>\n",
              "      <td>2023-01-31 23:53:00</td>\n",
              "      <td>NaN</td>\n",
              "      <td>3.15</td>\n",
              "      <td>NaN</td>\n",
              "      <td>None</td>\n",
              "      <td>230</td>\n",
              "      <td>79</td>\n",
              "      <td>0</td>\n",
              "      <td>18.15</td>\n",
              "      <td>0.00</td>\n",
              "      <td>0.5</td>\n",
              "      <td>4.43</td>\n",
              "      <td>0.0</td>\n",
              "      <td>1.0</td>\n",
              "      <td>26.58</td>\n",
              "      <td>NaN</td>\n",
              "      <td>NaN</td>\n",
              "    </tr>\n",
              "    <tr>\n",
              "      <th>3066765</th>\n",
              "      <td>2</td>\n",
              "      <td>2023-01-31 23:07:32</td>\n",
              "      <td>2023-01-31 23:21:56</td>\n",
              "      <td>NaN</td>\n",
              "      <td>2.85</td>\n",
              "      <td>NaN</td>\n",
              "      <td>None</td>\n",
              "      <td>262</td>\n",
              "      <td>143</td>\n",
              "      <td>0</td>\n",
              "      <td>15.97</td>\n",
              "      <td>0.00</td>\n",
              "      <td>0.5</td>\n",
              "      <td>2.00</td>\n",
              "      <td>0.0</td>\n",
              "      <td>1.0</td>\n",
              "      <td>21.97</td>\n",
              "      <td>NaN</td>\n",
              "      <td>NaN</td>\n",
              "    </tr>\n",
              "  </tbody>\n",
              "</table>\n",
              "<p>3066766 rows × 19 columns</p>\n",
              "</div>\n",
              "    <div class=\"colab-df-buttons\">\n",
              "\n",
              "  <div class=\"colab-df-container\">\n",
              "    <button class=\"colab-df-convert\" onclick=\"convertToInteractive('df-5ab2f358-1374-4c99-8ee7-d7e69edaef95')\"\n",
              "            title=\"Convert this dataframe to an interactive table.\"\n",
              "            style=\"display:none;\">\n",
              "\n",
              "  <svg xmlns=\"http://www.w3.org/2000/svg\" height=\"24px\" viewBox=\"0 -960 960 960\">\n",
              "    <path d=\"M120-120v-720h720v720H120Zm60-500h600v-160H180v160Zm220 220h160v-160H400v160Zm0 220h160v-160H400v160ZM180-400h160v-160H180v160Zm440 0h160v-160H620v160ZM180-180h160v-160H180v160Zm440 0h160v-160H620v160Z\"/>\n",
              "  </svg>\n",
              "    </button>\n",
              "\n",
              "  <style>\n",
              "    .colab-df-container {\n",
              "      display:flex;\n",
              "      gap: 12px;\n",
              "    }\n",
              "\n",
              "    .colab-df-convert {\n",
              "      background-color: #E8F0FE;\n",
              "      border: none;\n",
              "      border-radius: 50%;\n",
              "      cursor: pointer;\n",
              "      display: none;\n",
              "      fill: #1967D2;\n",
              "      height: 32px;\n",
              "      padding: 0 0 0 0;\n",
              "      width: 32px;\n",
              "    }\n",
              "\n",
              "    .colab-df-convert:hover {\n",
              "      background-color: #E2EBFA;\n",
              "      box-shadow: 0px 1px 2px rgba(60, 64, 67, 0.3), 0px 1px 3px 1px rgba(60, 64, 67, 0.15);\n",
              "      fill: #174EA6;\n",
              "    }\n",
              "\n",
              "    .colab-df-buttons div {\n",
              "      margin-bottom: 4px;\n",
              "    }\n",
              "\n",
              "    [theme=dark] .colab-df-convert {\n",
              "      background-color: #3B4455;\n",
              "      fill: #D2E3FC;\n",
              "    }\n",
              "\n",
              "    [theme=dark] .colab-df-convert:hover {\n",
              "      background-color: #434B5C;\n",
              "      box-shadow: 0px 1px 3px 1px rgba(0, 0, 0, 0.15);\n",
              "      filter: drop-shadow(0px 1px 2px rgba(0, 0, 0, 0.3));\n",
              "      fill: #FFFFFF;\n",
              "    }\n",
              "  </style>\n",
              "\n",
              "    <script>\n",
              "      const buttonEl =\n",
              "        document.querySelector('#df-5ab2f358-1374-4c99-8ee7-d7e69edaef95 button.colab-df-convert');\n",
              "      buttonEl.style.display =\n",
              "        google.colab.kernel.accessAllowed ? 'block' : 'none';\n",
              "\n",
              "      async function convertToInteractive(key) {\n",
              "        const element = document.querySelector('#df-5ab2f358-1374-4c99-8ee7-d7e69edaef95');\n",
              "        const dataTable =\n",
              "          await google.colab.kernel.invokeFunction('convertToInteractive',\n",
              "                                                    [key], {});\n",
              "        if (!dataTable) return;\n",
              "\n",
              "        const docLinkHtml = 'Like what you see? Visit the ' +\n",
              "          '<a target=\"_blank\" href=https://colab.research.google.com/notebooks/data_table.ipynb>data table notebook</a>'\n",
              "          + ' to learn more about interactive tables.';\n",
              "        element.innerHTML = '';\n",
              "        dataTable['output_type'] = 'display_data';\n",
              "        await google.colab.output.renderOutput(dataTable, element);\n",
              "        const docLink = document.createElement('div');\n",
              "        docLink.innerHTML = docLinkHtml;\n",
              "        element.appendChild(docLink);\n",
              "      }\n",
              "    </script>\n",
              "  </div>\n",
              "\n",
              "\n",
              "<div id=\"df-df7064fc-9070-4546-9995-b7532bbc9f9e\">\n",
              "  <button class=\"colab-df-quickchart\" onclick=\"quickchart('df-df7064fc-9070-4546-9995-b7532bbc9f9e')\"\n",
              "            title=\"Suggest charts\"\n",
              "            style=\"display:none;\">\n",
              "\n",
              "<svg xmlns=\"http://www.w3.org/2000/svg\" height=\"24px\"viewBox=\"0 0 24 24\"\n",
              "     width=\"24px\">\n",
              "    <g>\n",
              "        <path d=\"M19 3H5c-1.1 0-2 .9-2 2v14c0 1.1.9 2 2 2h14c1.1 0 2-.9 2-2V5c0-1.1-.9-2-2-2zM9 17H7v-7h2v7zm4 0h-2V7h2v10zm4 0h-2v-4h2v4z\"/>\n",
              "    </g>\n",
              "</svg>\n",
              "  </button>\n",
              "\n",
              "<style>\n",
              "  .colab-df-quickchart {\n",
              "      --bg-color: #E8F0FE;\n",
              "      --fill-color: #1967D2;\n",
              "      --hover-bg-color: #E2EBFA;\n",
              "      --hover-fill-color: #174EA6;\n",
              "      --disabled-fill-color: #AAA;\n",
              "      --disabled-bg-color: #DDD;\n",
              "  }\n",
              "\n",
              "  [theme=dark] .colab-df-quickchart {\n",
              "      --bg-color: #3B4455;\n",
              "      --fill-color: #D2E3FC;\n",
              "      --hover-bg-color: #434B5C;\n",
              "      --hover-fill-color: #FFFFFF;\n",
              "      --disabled-bg-color: #3B4455;\n",
              "      --disabled-fill-color: #666;\n",
              "  }\n",
              "\n",
              "  .colab-df-quickchart {\n",
              "    background-color: var(--bg-color);\n",
              "    border: none;\n",
              "    border-radius: 50%;\n",
              "    cursor: pointer;\n",
              "    display: none;\n",
              "    fill: var(--fill-color);\n",
              "    height: 32px;\n",
              "    padding: 0;\n",
              "    width: 32px;\n",
              "  }\n",
              "\n",
              "  .colab-df-quickchart:hover {\n",
              "    background-color: var(--hover-bg-color);\n",
              "    box-shadow: 0 1px 2px rgba(60, 64, 67, 0.3), 0 1px 3px 1px rgba(60, 64, 67, 0.15);\n",
              "    fill: var(--button-hover-fill-color);\n",
              "  }\n",
              "\n",
              "  .colab-df-quickchart-complete:disabled,\n",
              "  .colab-df-quickchart-complete:disabled:hover {\n",
              "    background-color: var(--disabled-bg-color);\n",
              "    fill: var(--disabled-fill-color);\n",
              "    box-shadow: none;\n",
              "  }\n",
              "\n",
              "  .colab-df-spinner {\n",
              "    border: 2px solid var(--fill-color);\n",
              "    border-color: transparent;\n",
              "    border-bottom-color: var(--fill-color);\n",
              "    animation:\n",
              "      spin 1s steps(1) infinite;\n",
              "  }\n",
              "\n",
              "  @keyframes spin {\n",
              "    0% {\n",
              "      border-color: transparent;\n",
              "      border-bottom-color: var(--fill-color);\n",
              "      border-left-color: var(--fill-color);\n",
              "    }\n",
              "    20% {\n",
              "      border-color: transparent;\n",
              "      border-left-color: var(--fill-color);\n",
              "      border-top-color: var(--fill-color);\n",
              "    }\n",
              "    30% {\n",
              "      border-color: transparent;\n",
              "      border-left-color: var(--fill-color);\n",
              "      border-top-color: var(--fill-color);\n",
              "      border-right-color: var(--fill-color);\n",
              "    }\n",
              "    40% {\n",
              "      border-color: transparent;\n",
              "      border-right-color: var(--fill-color);\n",
              "      border-top-color: var(--fill-color);\n",
              "    }\n",
              "    60% {\n",
              "      border-color: transparent;\n",
              "      border-right-color: var(--fill-color);\n",
              "    }\n",
              "    80% {\n",
              "      border-color: transparent;\n",
              "      border-right-color: var(--fill-color);\n",
              "      border-bottom-color: var(--fill-color);\n",
              "    }\n",
              "    90% {\n",
              "      border-color: transparent;\n",
              "      border-bottom-color: var(--fill-color);\n",
              "    }\n",
              "  }\n",
              "</style>\n",
              "\n",
              "  <script>\n",
              "    async function quickchart(key) {\n",
              "      const quickchartButtonEl =\n",
              "        document.querySelector('#' + key + ' button');\n",
              "      quickchartButtonEl.disabled = true;  // To prevent multiple clicks.\n",
              "      quickchartButtonEl.classList.add('colab-df-spinner');\n",
              "      try {\n",
              "        const charts = await google.colab.kernel.invokeFunction(\n",
              "            'suggestCharts', [key], {});\n",
              "      } catch (error) {\n",
              "        console.error('Error during call to suggestCharts:', error);\n",
              "      }\n",
              "      quickchartButtonEl.classList.remove('colab-df-spinner');\n",
              "      quickchartButtonEl.classList.add('colab-df-quickchart-complete');\n",
              "    }\n",
              "    (() => {\n",
              "      let quickchartButtonEl =\n",
              "        document.querySelector('#df-df7064fc-9070-4546-9995-b7532bbc9f9e button');\n",
              "      quickchartButtonEl.style.display =\n",
              "        google.colab.kernel.accessAllowed ? 'block' : 'none';\n",
              "    })();\n",
              "  </script>\n",
              "</div>\n",
              "\n",
              "  <div id=\"id_ca364fb5-b9be-4235-90f8-34851b82c634\">\n",
              "    <style>\n",
              "      .colab-df-generate {\n",
              "        background-color: #E8F0FE;\n",
              "        border: none;\n",
              "        border-radius: 50%;\n",
              "        cursor: pointer;\n",
              "        display: none;\n",
              "        fill: #1967D2;\n",
              "        height: 32px;\n",
              "        padding: 0 0 0 0;\n",
              "        width: 32px;\n",
              "      }\n",
              "\n",
              "      .colab-df-generate:hover {\n",
              "        background-color: #E2EBFA;\n",
              "        box-shadow: 0px 1px 2px rgba(60, 64, 67, 0.3), 0px 1px 3px 1px rgba(60, 64, 67, 0.15);\n",
              "        fill: #174EA6;\n",
              "      }\n",
              "\n",
              "      [theme=dark] .colab-df-generate {\n",
              "        background-color: #3B4455;\n",
              "        fill: #D2E3FC;\n",
              "      }\n",
              "\n",
              "      [theme=dark] .colab-df-generate:hover {\n",
              "        background-color: #434B5C;\n",
              "        box-shadow: 0px 1px 3px 1px rgba(0, 0, 0, 0.15);\n",
              "        filter: drop-shadow(0px 1px 2px rgba(0, 0, 0, 0.3));\n",
              "        fill: #FFFFFF;\n",
              "      }\n",
              "    </style>\n",
              "    <button class=\"colab-df-generate\" onclick=\"generateWithVariable('yellow_january_data')\"\n",
              "            title=\"Generate code using this dataframe.\"\n",
              "            style=\"display:none;\">\n",
              "\n",
              "  <svg xmlns=\"http://www.w3.org/2000/svg\" height=\"24px\"viewBox=\"0 0 24 24\"\n",
              "       width=\"24px\">\n",
              "    <path d=\"M7,19H8.4L18.45,9,17,7.55,7,17.6ZM5,21V16.75L18.45,3.32a2,2,0,0,1,2.83,0l1.4,1.43a1.91,1.91,0,0,1,.58,1.4,1.91,1.91,0,0,1-.58,1.4L9.25,21ZM18.45,9,17,7.55Zm-12,3A5.31,5.31,0,0,0,4.9,8.1,5.31,5.31,0,0,0,1,6.5,5.31,5.31,0,0,0,4.9,4.9,5.31,5.31,0,0,0,6.5,1,5.31,5.31,0,0,0,8.1,4.9,5.31,5.31,0,0,0,12,6.5,5.46,5.46,0,0,0,6.5,12Z\"/>\n",
              "  </svg>\n",
              "    </button>\n",
              "    <script>\n",
              "      (() => {\n",
              "      const buttonEl =\n",
              "        document.querySelector('#id_ca364fb5-b9be-4235-90f8-34851b82c634 button.colab-df-generate');\n",
              "      buttonEl.style.display =\n",
              "        google.colab.kernel.accessAllowed ? 'block' : 'none';\n",
              "\n",
              "      buttonEl.onclick = () => {\n",
              "        google.colab.notebook.generateWithVariable('yellow_january_data');\n",
              "      }\n",
              "      })();\n",
              "    </script>\n",
              "  </div>\n",
              "\n",
              "    </div>\n",
              "  </div>\n"
            ],
            "application/vnd.google.colaboratory.intrinsic+json": {
              "type": "dataframe",
              "variable_name": "yellow_january_data"
            }
          },
          "metadata": {},
          "execution_count": 5
        }
      ]
    },
    {
      "cell_type": "markdown",
      "source": [
        "# **Q2. Computing duration**"
      ],
      "metadata": {
        "id": "8G4fJvjTU4cR"
      }
    },
    {
      "cell_type": "code",
      "source": [
        "# Calculate the trip duration and its standard deviation.\n",
        "# Find the date time difference between dropoff and pickup.\n",
        "yellow_january_data[\"duration\"] = pd.to_datetime(yellow_january_data[\"tpep_dropoff_datetime\"]) - pd.to_datetime(yellow_january_data[\"tpep_pickup_datetime\"])\n",
        "# Convert it to minutes and take the ones greater than zero.\n",
        "yellow_january_data[\"duration\"] = yellow_january_data[\"duration\"].dt.total_seconds() / 60\n",
        "yellow_january_data_slice = yellow_january_data[yellow_january_data[\"duration\"] > 0]\n",
        "\n",
        "jan_std = yellow_january_data_slice[\"duration\"].std()\n",
        "print(f\"Standard deviation of January Yellow Taxi Trip Duration is: {jan_std}\")"
      ],
      "metadata": {
        "colab": {
          "base_uri": "https://localhost:8080/"
        },
        "id": "EmC2ADKYPCFp",
        "outputId": "505bf1ba-6e5c-4389-c6e5-d94d4d9c7cdb"
      },
      "execution_count": 6,
      "outputs": [
        {
          "output_type": "stream",
          "name": "stdout",
          "text": [
            "Standard deviation of January Yellow Taxi Trip Duration is: 42.6010710644285\n"
          ]
        }
      ]
    },
    {
      "cell_type": "markdown",
      "source": [
        "# **Q3. Dropping outliers**"
      ],
      "metadata": {
        "id": "f52vr-MIU-cY"
      }
    },
    {
      "cell_type": "code",
      "source": [
        "print(f'Before dropping outliers. Size of df is: {yellow_january_data_slice[\"duration\"].shape[0]}')\n",
        "yellow_january_data_slice_drop = yellow_january_data[(yellow_january_data[\"duration\"] >= 1) & (yellow_january_data[\"duration\"] <=60)]\n",
        "print(f'After dropping outliers. Size of df is: {yellow_january_data_slice_drop[\"duration\"].shape[0]}')\n",
        "# Result\n",
        "fraction = yellow_january_data_slice_drop[\"duration\"].shape[0] / yellow_january_data_slice[\"duration\"].shape[0]\n",
        "print(f'Fraction of the records left after dropped the outliers: %{fraction}')"
      ],
      "metadata": {
        "colab": {
          "base_uri": "https://localhost:8080/"
        },
        "id": "0YbqNeBGVCYO",
        "outputId": "57a3c020-8d66-4081-bb04-c350e7f9bbb4"
      },
      "execution_count": 7,
      "outputs": [
        {
          "output_type": "stream",
          "name": "stdout",
          "text": [
            "Before dropping outliers. Size of df is: 3065645\n",
            "After dropping outliers. Size of df is: 3009173\n",
            "Fraction of the records left after dropped the outliers: %0.9815790804219015\n"
          ]
        }
      ]
    },
    {
      "cell_type": "markdown",
      "source": [
        "# **Q4. One-hot encoding**"
      ],
      "metadata": {
        "id": "SvW4eXBQXqFx"
      }
    },
    {
      "cell_type": "code",
      "source": [
        "two_feature_data = yellow_january_data_slice_drop[[\"PULocationID\", \"DOLocationID\"]].astype(str)\n",
        "categorical_dict = two_feature_data.to_dict(orient=\"records\")\n",
        "\n",
        "from sklearn.feature_extraction import DictVectorizer\n",
        "dv = DictVectorizer()\n",
        "transformed_data = dv.fit_transform(categorical_dict)"
      ],
      "metadata": {
        "id": "Z35XnXefXsD6"
      },
      "execution_count": 18,
      "outputs": []
    },
    {
      "cell_type": "code",
      "source": [
        "row_t, col_t = transformed_data.shape\n",
        "print(f\"The dimensionality of the matrix (number of columns): {col_t}\")"
      ],
      "metadata": {
        "id": "ruXp7PovitW2",
        "outputId": "8ce5953a-1e55-44bd-db9d-caebfb530ada",
        "colab": {
          "base_uri": "https://localhost:8080/"
        }
      },
      "execution_count": 19,
      "outputs": [
        {
          "output_type": "stream",
          "name": "stdout",
          "text": [
            "The dimensionality of the matrix (number of columns): 515\n"
          ]
        }
      ]
    },
    {
      "cell_type": "markdown",
      "source": [
        "# **Q5. Training a model**"
      ],
      "metadata": {
        "id": "0km8YEaFlup4"
      }
    },
    {
      "cell_type": "code",
      "source": [
        "from sklearn.linear_model import LinearRegression\n",
        "from sklearn.metrics import root_mean_squared_error\n",
        "X_train = transformed_data\n",
        "y_train = yellow_january_data_slice_drop[\"duration\"].values\n",
        "\n",
        "lr = LinearRegression()\n",
        "lr.fit(X_train, y_train)\n",
        "\n",
        "y_pred = lr.predict(X_train)\n",
        "\n",
        "root_mean_squared_error(y_train, y_pred)"
      ],
      "metadata": {
        "id": "de2C9bd3l2LJ",
        "outputId": "8d45345c-042f-4a61-febb-1884393b445f",
        "colab": {
          "base_uri": "https://localhost:8080/"
        }
      },
      "execution_count": 23,
      "outputs": [
        {
          "output_type": "execute_result",
          "data": {
            "text/plain": [
              "7.6492624397080675"
            ]
          },
          "metadata": {},
          "execution_count": 23
        }
      ]
    },
    {
      "cell_type": "markdown",
      "source": [
        "# **Q6. Evaluating the model**"
      ],
      "metadata": {
        "id": "t71P_dW3lwod"
      }
    },
    {
      "cell_type": "code",
      "source": [
        "# Prepare validation data\n",
        "from sklearn.feature_extraction import DictVectorizer\n",
        "yellow_february_data[\"duration\"] = pd.to_datetime(yellow_february_data[\"tpep_dropoff_datetime\"]) - pd.to_datetime(yellow_february_data[\"tpep_pickup_datetime\"])\n",
        "yellow_february_data[\"duration\"] = yellow_february_data[\"duration\"].dt.total_seconds() / 60\n",
        "yellow_february_data_slice_drop = yellow_february_data[(yellow_february_data[\"duration\"] >= 1) & (yellow_february_data[\"duration\"] <=60)]\n",
        "\n",
        "two_feature_val_data = yellow_february_data_slice_drop[[\"PULocationID\", \"DOLocationID\"]].astype(str)\n",
        "categorical_dict_val = two_feature_val_data.to_dict(orient=\"records\")\n",
        "\n",
        "transformed_data_val = dv.transform(categorical_dict_val)"
      ],
      "metadata": {
        "id": "ajgwJBtWl20C"
      },
      "execution_count": 24,
      "outputs": []
    },
    {
      "cell_type": "code",
      "source": [
        "X_val = transformed_data_val\n",
        "y_val = yellow_february_data_slice_drop[\"duration\"].values\n",
        "\n",
        "lr = LinearRegression()\n",
        "lr.fit(X_train, y_train)\n",
        "\n",
        "y_pred = lr.predict(X_val)\n",
        "root_mean_squared_error(y_val, y_pred)"
      ],
      "metadata": {
        "id": "RUX1JtVEq29v",
        "outputId": "b73c6b7a-b99c-40f3-9608-94a3f39e0ca6",
        "colab": {
          "base_uri": "https://localhost:8080/"
        }
      },
      "execution_count": 25,
      "outputs": [
        {
          "output_type": "execute_result",
          "data": {
            "text/plain": [
              "13.328465316947057"
            ]
          },
          "metadata": {},
          "execution_count": 25
        }
      ]
    },
    {
      "cell_type": "markdown",
      "source": [
        "# **References**"
      ],
      "metadata": {
        "id": "43Pu-xXhzC0o"
      }
    },
    {
      "cell_type": "markdown",
      "source": [
        "[1] [https://stackoverflow.com/questions/33813815/how-to-read-a-parquet-file-into-pandas-dataframe](https://stackoverflow.com/questions/33813815/how-to-read-a-parquet-file-into-pandas-dataframe)\n",
        "\n",
        "[2] [https://pypi.org/project/fastparquet/](https://pypi.org/project/fastparquet/)\n",
        "\n",
        "[3] [https://stackoverflow.com/questions/55364374/how-can-i-find-the-difference-between-two-columns-with-times](https://stackoverflow.com/questions/55364374/how-can-i-find-the-difference-between-two-columns-with-times)\n",
        "\n",
        "[4] [https://note.nkmk.me/en/python-pandas-len-shape-size/](https://note.nkmk.me/en/python-pandas-len-shape-size/)\n",
        "\n",
        "[5] [https://stackoverflow.com/questions/22923775/calculate-time-difference-between-two-pandas-columns-in-hours-and-minutes](https://stackoverflow.com/questions/22923775/calculate-time-difference-between-two-pandas-columns-in-hours-and-minutes)\n",
        "\n",
        "[6] [https://stackoverflow.com/questions/76363921/how-to-fix-pandas-v2-valueerror-cannot-convert-from-timedelta64ns-to-timedel](https://stackoverflow.com/questions/76363921/how-to-fix-pandas-v2-valueerror-cannot-convert-from-timedelta64ns-to-timedel)\n",
        "\n",
        "[7] [https://stackoverflow.com/questions/62281476/attributeerror-timedeltaproperties-object-has-no-attribute-minute](https://stackoverflow.com/questions/62281476/attributeerror-timedeltaproperties-object-has-no-attribute-minute)\n",
        "\n",
        "[8] [https://stackoverflow.com/questions/26566107/how-to-convert-numpy-timedelta64-to-minutes](https://stackoverflow.com/questions/26566107/how-to-convert-numpy-timedelta64-to-minutes)\n",
        "\n",
        "[9] [https://www.reddit.com/r/MicrosoftFabric/comments/18z4yqy/notebook_python_error_converting_date_time_value/](https://www.reddit.com/r/MicrosoftFabric/comments/18z4yqy/notebook_python_error_converting_date_time_value/)\n",
        "\n",
        "[10] [https://stackoverflow.com/questions/21415661/logical-operators-for-boolean-indexing-in-pandas](https://stackoverflow.com/questions/21415661/logical-operators-for-boolean-indexing-in-pandas)\n",
        "\n",
        "[11] [https://stackoverflow.com/questions/67540413/f-string-unmatched-in-line-with-function-call](https://stackoverflow.com/questions/67540413/f-string-unmatched-in-line-with-function-call)\n",
        "\n",
        "[12] [https://stackoverflow.com/questions/29815129/pandas-dataframe-to-list-of-dictionaries](https://stackoverflow.com/questions/29815129/pandas-dataframe-to-list-of-dictionaries)\n",
        "\n",
        "[13] [https://www.kaggle.com/discussions/getting-started/109329](https://www.kaggle.com/discussions/getting-started/109329)\n",
        "\n",
        "[14] [https://dev.to/victor_isaac_king/one-hot-encoding-with-dictvectorizer-1317](https://dev.to/victor_isaac_king/one-hot-encoding-with-dictvectorizer-1317)\n",
        "\n",
        "[15] [https://stackoverflow.com/questions/11285613/selecting-multiple-columns-in-a-pandas-dataframe](https://stackoverflow.com/questions/11285613/selecting-multiple-columns-in-a-pandas-dataframe)\n",
        "\n",
        "[16] [https://pandas.pydata.org/pandas-docs/stable/user_guide/indexing.html#basics](https://pandas.pydata.org/pandas-docs/stable/user_guide/indexing.html#basics)\n",
        "\n",
        "[17] [https://stackoverflow.com/questions/24251959/memoryerror-in-toarray-when-using-dictvectorizer-of-scikit-learn](https://stackoverflow.com/questions/24251959/memoryerror-in-toarray-when-using-dictvectorizer-of-scikit-learn)\n",
        "\n",
        "[18] [https://scikit-learn.org/stable/modules/generated/sklearn.feature_extraction.DictVectorizer.html](https://scikit-learn.org/stable/modules/generated/sklearn.feature_extraction.DictVectorizer.html)\n",
        "\n",
        "[19] [https://stackoverflow.com/questions/52022362/how-to-get-views-on-sparse-matrices](https://stackoverflow.com/questions/52022362/how-to-get-views-on-sparse-matrices)\n",
        "\n",
        "[20] [https://www.youtube.com/watch?v=7gwK5Ct69Dk](https://www.youtube.com/watch?v=7gwK5Ct69Dk)\n",
        "\n",
        "[21] [https://scikit-learn.org/stable/modules/generated/sklearn.metrics.root_mean_squared_error.html](https://scikit-learn.org/stable/modules/generated/sklearn.metrics.root_mean_squared_error.html)\n",
        "\n",
        "[22] [https://github.com/scikit-learn/scikit-learn/issues/28900](https://github.com/scikit-learn/scikit-learn/issues/28900)\n",
        "\n",
        "[23] [https://towardsdatascience.com/what-and-why-behind-fit-transform-vs-transform-in-scikit-learn-78f915cf96fe](https://towardsdatascience.com/what-and-why-behind-fit-transform-vs-transform-in-scikit-learn-78f915cf96fe)"
      ],
      "metadata": {
        "id": "d6hr-8I2zFzy"
      }
    }
  ],
  "metadata": {
    "kernelspec": {
      "display_name": "Python 3",
      "name": "python3"
    },
    "language_info": {
      "codemirror_mode": {
        "name": "ipython",
        "version": 3
      },
      "file_extension": ".py",
      "mimetype": "text/x-python",
      "name": "python",
      "nbconvert_exporter": "python",
      "pygments_lexer": "ipython3",
      "version": "3.9.19"
    },
    "colab": {
      "provenance": [],
      "gpuType": "T4"
    },
    "accelerator": "GPU"
  },
  "nbformat": 4,
  "nbformat_minor": 0
}